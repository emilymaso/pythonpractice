{
 "cells": [
  {
   "cell_type": "markdown",
   "metadata": {},
   "source": [
    "# 03 Numpy"
   ]
  },
  {
   "cell_type": "code",
   "execution_count": 1,
   "metadata": {
    "collapsed": true
   },
   "outputs": [],
   "source": [
    "import numpy as np"
   ]
  },
  {
   "cell_type": "markdown",
   "metadata": {},
   "source": [
    "The core of the `numpy` package is the `array` class. Let's examine that first. We can make an array out of a sequence, like a list."
   ]
  },
  {
   "cell_type": "code",
   "execution_count": 3,
   "metadata": {
    "collapsed": false
   },
   "outputs": [
    {
     "data": {
      "text/plain": [
       "array([1, 2, 3, 4, 5])"
      ]
     },
     "execution_count": 3,
     "metadata": {},
     "output_type": "execute_result"
    }
   ],
   "source": [
    "d = [1, 2, 3, 4, 5]\n",
    "np.array(d)"
   ]
  },
  {
   "cell_type": "markdown",
   "metadata": {},
   "source": [
    "### data types\n",
    "\n",
    "Unlike lists, arrays must be homogeneous, in that the data types of each element must be the same. The data type of the array us upcast to be able to represent all of the data. So, if only one element is a float, all elements will be converted to floats."
   ]
  },
  {
   "cell_type": "code",
   "execution_count": 4,
   "metadata": {
    "collapsed": false
   },
   "outputs": [
    {
     "data": {
      "text/plain": [
       "array([ 1.    ,  2.    ,  3.1415,  4.    ,  5.    ])"
      ]
     },
     "execution_count": 4,
     "metadata": {},
     "output_type": "execute_result"
    }
   ],
   "source": [
    "d = [1, 2, 3.1415, 4, 5]\n",
    "np.array(d)"
   ]
  },
  {
   "cell_type": "markdown",
   "metadata": {},
   "source": [
    "You can query the datatype by examaning the dtype attribute of the array."
   ]
  },
  {
   "cell_type": "code",
   "execution_count": 5,
   "metadata": {
    "collapsed": false
   },
   "outputs": [
    {
     "data": {
      "text/plain": [
       "dtype('int64')"
      ]
     },
     "execution_count": 5,
     "metadata": {},
     "output_type": "execute_result"
    }
   ],
   "source": [
    "d = [1, 2, 3.1415, 4, 5]\n",
    "arr = np.array(d)\n",
    "arr.dtype\n",
    "d2=[1,2,3]\n",
    "arr2=np.array(d2)\n",
    "arr2.dtype"
   ]
  },
  {
   "cell_type": "markdown",
   "metadata": {},
   "source": [
    "As we have seen before, arrays are like multidimensional sequences. We can create a 2D array by supplying a list of lists as the argument."
   ]
  },
  {
   "cell_type": "code",
   "execution_count": 6,
   "metadata": {
    "collapsed": false
   },
   "outputs": [
    {
     "data": {
      "text/plain": [
       "array([[ 1.,  2.,  3.],\n",
       "       [ 4.,  5.,  6.]], dtype=float32)"
      ]
     },
     "execution_count": 6,
     "metadata": {},
     "output_type": "execute_result"
    }
   ],
   "source": [
    "arr = np.array([[1., 2., 3.,], [4., 5., 6.]],dtype='float32')\n",
    "arr"
   ]
  },
  {
   "cell_type": "code",
   "execution_count": 7,
   "metadata": {
    "collapsed": false
   },
   "outputs": [
    {
     "name": "stdout",
     "output_type": "stream",
     "text": [
      "[ 1.+2.j  3.+4.j]\n"
     ]
    },
    {
     "data": {
      "text/plain": [
       "dtype('complex128')"
      ]
     },
     "execution_count": 7,
     "metadata": {},
     "output_type": "execute_result"
    }
   ],
   "source": [
    "cmplx = np.array([1.0+2.0j,3.0+4.0J])\n",
    "print(cmplx)\n",
    "cmplx.dtype"
   ]
  },
  {
   "cell_type": "code",
   "execution_count": 11,
   "metadata": {
    "collapsed": false
   },
   "outputs": [
    {
     "data": {
      "text/plain": [
       "array([[ 1.,  2.,  3.],\n",
       "       [ 4.,  5.,  6.]])"
      ]
     },
     "execution_count": 11,
     "metadata": {},
     "output_type": "execute_result"
    }
   ],
   "source": [
    "arr = np.array([[1., 2., 3.,], [4., 5., 6.]])\n",
    "arr"
   ]
  },
  {
   "cell_type": "markdown",
   "metadata": {},
   "source": [
    "### Array attributes\n",
    "\n",
    "Arrays have a few other important attributes. Note attributes never have paretheses after them. Methods always do."
   ]
  },
  {
   "cell_type": "code",
   "execution_count": 12,
   "metadata": {
    "collapsed": false
   },
   "outputs": [
    {
     "data": {
      "text/plain": [
       "6"
      ]
     },
     "execution_count": 12,
     "metadata": {},
     "output_type": "execute_result"
    }
   ],
   "source": [
    "arr.size          # The number of elements in the array"
   ]
  },
  {
   "cell_type": "code",
   "execution_count": 13,
   "metadata": {
    "collapsed": false
   },
   "outputs": [
    {
     "data": {
      "text/plain": [
       "(2, 3)"
      ]
     },
     "execution_count": 13,
     "metadata": {},
     "output_type": "execute_result"
    }
   ],
   "source": [
    "arr.shape         # The shape of the array (i.e., the size of each dimension)"
   ]
  },
  {
   "cell_type": "code",
   "execution_count": 14,
   "metadata": {
    "collapsed": false
   },
   "outputs": [
    {
     "data": {
      "text/plain": [
       "2"
      ]
     },
     "execution_count": 14,
     "metadata": {},
     "output_type": "execute_result"
    }
   ],
   "source": [
    "arr.ndim          # The number of dimensions of the array"
   ]
  },
  {
   "cell_type": "markdown",
   "metadata": {},
   "source": [
    "### Setting array shape\n",
    "\n",
    "You can set the `array.shape` attribute to change the shape of the array. This attribute does not change the elements of the array, or how it is stored in memory, just how it is seen."
   ]
  },
  {
   "cell_type": "code",
   "execution_count": 15,
   "metadata": {
    "collapsed": false
   },
   "outputs": [
    {
     "data": {
      "text/plain": [
       "array([[ 1.,  2.],\n",
       "       [ 3.,  4.],\n",
       "       [ 5.,  6.]])"
      ]
     },
     "execution_count": 15,
     "metadata": {},
     "output_type": "execute_result"
    }
   ],
   "source": [
    "arr.shape = (3, 2)\n",
    "arr"
   ]
  },
  {
   "cell_type": "code",
   "execution_count": 24,
   "metadata": {
    "collapsed": false
   },
   "outputs": [
    {
     "data": {
      "text/plain": [
       "array([ 1.,  2.,  3.,  4.,  5.,  6.])"
      ]
     },
     "execution_count": 24,
     "metadata": {},
     "output_type": "execute_result"
    }
   ],
   "source": [
    "arr.shape = (6,)   # equivalent to arr.shape = (6, 1)\n",
    "arr"
   ]
  },
  {
   "cell_type": "code",
   "execution_count": 18,
   "metadata": {
    "collapsed": false
   },
   "outputs": [
    {
     "data": {
      "text/plain": [
       "array([[ 1.,  2.,  3.,  4.,  5.,  6.]])"
      ]
     },
     "execution_count": 18,
     "metadata": {},
     "output_type": "execute_result"
    }
   ],
   "source": [
    "arr.shape = (1, 6)\n",
    "arr   # Note that there are *two* square brackets in the output sequence."
   ]
  },
  {
   "cell_type": "markdown",
   "metadata": {},
   "source": [
    "### Array indexing\n",
    "Arrays are indexed in a similar way to sequences, with start:stop:stride notation. Except that this is used for each dimension in the array, like"
   ]
  },
  {
   "cell_type": "code",
   "execution_count": 50,
   "metadata": {
    "collapsed": false
   },
   "outputs": [
    {
     "name": "stdout",
     "output_type": "stream",
     "text": [
      "[[ 0  1  2  3  4]\n",
      " [ 5  6  7  8  9]\n",
      " [10 11 12 13 14]\n",
      " [15 16 17 18 19]]\n"
     ]
    },
    {
     "data": {
      "text/plain": [
       "array([[ 3,  4],\n",
       "       [13, 14]])"
      ]
     },
     "execution_count": 50,
     "metadata": {},
     "output_type": "execute_result"
    }
   ],
   "source": [
    "a = np.arange(20).reshape(4, 5)\n",
    "print(a)\n",
    "a[::2, 3:]"
   ]
  },
  {
   "cell_type": "markdown",
   "metadata": {},
   "source": [
    "### Array methods\n",
    "\n",
    "Arrays have a number of methods. Let's take a look at the 'mean' method as an example. "
   ]
  },
  {
   "cell_type": "code",
   "execution_count": 30,
   "metadata": {
    "collapsed": false
   },
   "outputs": [
    {
     "data": {
      "text/plain": [
       "3.5"
      ]
     },
     "execution_count": 30,
     "metadata": {},
     "output_type": "execute_result"
    }
   ],
   "source": [
    "arr = np.array([[1., 2., 3.,], [4., 5., 6.]])  # reset the array to our 2x3 array.\n",
    "\n",
    "arr.mean()        # The mean of all of the elements in the array"
   ]
  },
  {
   "cell_type": "markdown",
   "metadata": {},
   "source": [
    "Mean takes the optional argument `axis` that can be used to take the mean along a single axis of the array. Just like with indexing, the axes are reference in a zero-based system; `axis=0` means the first dimension. "
   ]
  },
  {
   "cell_type": "code",
   "execution_count": 14,
   "metadata": {
    "collapsed": false
   },
   "outputs": [
    {
     "data": {
      "text/plain": [
       "array([ 2.5,  3.5,  4.5])"
      ]
     },
     "execution_count": 14,
     "metadata": {},
     "output_type": "execute_result"
    }
   ],
   "source": [
    "arr.mean(axis=0)  # The mean "
   ]
  },
  {
   "cell_type": "markdown",
   "metadata": {},
   "source": [
    "In this case, there are two rows in the first dimension, and `arr.mean(axis=0)` takes the average in the 'row' direction, resulting in a 1D array that is the average of each column."
   ]
  },
  {
   "cell_type": "markdown",
   "metadata": {},
   "source": [
    "---\n",
    "### *Exercise*\n",
    "\n",
    "> Find the mean of the array in the 'column' direction, along `axis=1`.\n",
    "\n",
    "> Use the `sum` method of the array class to get the sum of the numbers in each column. The result should be a 1D array with three elements.\n",
    "\n",
    "---"
   ]
  },
  {
   "cell_type": "code",
   "execution_count": 31,
   "metadata": {
    "collapsed": false
   },
   "outputs": [
    {
     "data": {
      "text/plain": [
       "array([ 2.,  5.])"
      ]
     },
     "execution_count": 31,
     "metadata": {},
     "output_type": "execute_result"
    }
   ],
   "source": [
    "arr.mean(axis=1)"
   ]
  },
  {
   "cell_type": "code",
   "execution_count": 32,
   "metadata": {
    "collapsed": false
   },
   "outputs": [
    {
     "data": {
      "text/plain": [
       "array([  6.,  15.])"
      ]
     },
     "execution_count": 32,
     "metadata": {},
     "output_type": "execute_result"
    }
   ],
   "source": [
    "arr.sum(axis=1)"
   ]
  },
  {
   "cell_type": "code",
   "execution_count": 33,
   "metadata": {
    "collapsed": false
   },
   "outputs": [
    {
     "data": {
      "text/plain": [
       "array([ 5.,  7.,  9.])"
      ]
     },
     "execution_count": 33,
     "metadata": {},
     "output_type": "execute_result"
    }
   ],
   "source": [
    "arr.sum(axis=0)"
   ]
  },
  {
   "cell_type": "code",
   "execution_count": 40,
   "metadata": {
    "collapsed": false
   },
   "outputs": [
    {
     "data": {
      "text/plain": [
       "array([[ 1.,  2.],\n",
       "       [ 3.,  4.],\n",
       "       [ 5.,  6.]])"
      ]
     },
     "execution_count": 40,
     "metadata": {},
     "output_type": "execute_result"
    }
   ],
   "source": [
    "arr.max(axis=0)\n",
    "arr.reshape(3,2)"
   ]
  },
  {
   "cell_type": "markdown",
   "metadata": {
    "collapsed": true
   },
   "source": [
    "You can also use the `reshape` method to change the shape of an array."
   ]
  },
  {
   "cell_type": "code",
   "execution_count": 41,
   "metadata": {
    "collapsed": false
   },
   "outputs": [
    {
     "name": "stdout",
     "output_type": "stream",
     "text": [
      "[ 0.95887778  0.39562813 -2.08647361  0.4953068   1.54109711 -2.75299725\n",
      "  1.63914245  0.07910151  0.02373123  2.11070319]\n",
      "9 2.11070318605 2.11070318605\n"
     ]
    }
   ],
   "source": [
    "x=np.random.randn(10)\n",
    "print(x)\n",
    "imax = x.argmax()\n",
    "print(imax,x[imax],x.max())"
   ]
  },
  {
   "cell_type": "markdown",
   "metadata": {
    "collapsed": true
   },
   "source": [
    "## Array views\n",
    "\n",
    "The data for an array may be storred in memory using `C` or `FORTRAN` ordered memory. Typically, there is no need to think about this, some details can be found [here](http://docs.scipy.org/doc/numpy-1.10.0/reference/internals.html).\n",
    "\n",
    "However, it is important to remember that subsets of an array can produce a different 'view' of the array that addresses the same memory as the original array. This can lead to some unexpected behaviours. One way to think of this is that assignment in Python is more like a C-pointer (i.e., a reference to a memory location) than an actual value."
   ]
  },
  {
   "cell_type": "code",
   "execution_count": 18,
   "metadata": {
    "collapsed": false
   },
   "outputs": [
    {
     "name": "stdout",
     "output_type": "stream",
     "text": [
      "[ 0.  1.  2.  3.  4.  5.  6.  7.  8.  9.]\n",
      "[ 0.  2.  4.  6.  8.]\n"
     ]
    }
   ],
   "source": [
    "a = np.arange(10.0)\n",
    "b = a[::2] #every other element\n",
    "print(a)\n",
    "print(b)"
   ]
  },
  {
   "cell_type": "code",
   "execution_count": 20,
   "metadata": {
    "collapsed": false
   },
   "outputs": [
    {
     "name": "stdout",
     "output_type": "stream",
     "text": [
      "[   0.    1.    2.    3. -999.    5.    6.    7.    8.    9.]\n",
      "[   0.    2. -999.    6.    8.]\n"
     ]
    }
   ],
   "source": [
    "a[4] = -999   # this will modify b as well...\n",
    "print(a)\n",
    "print(b)"
   ]
  },
  {
   "cell_type": "code",
   "execution_count": 23,
   "metadata": {
    "collapsed": false
   },
   "outputs": [
    {
     "name": "stdout",
     "output_type": "stream",
     "text": [
      "[   0.    1.    2.    3. -999.    5.    6.    7. -888.    9.]\n",
      "[   0.    2. -999.    6. -888.]\n"
     ]
    }
   ],
   "source": [
    "b[-1] = -888  # this will modify a as well...\n",
    "print(a)\n",
    "print(b)"
   ]
  },
  {
   "cell_type": "markdown",
   "metadata": {},
   "source": [
    "Normally, this will not be a problem, but if you need to make sure that a subset of an array has it's own memory, make sure you make a `copy` of the array, like"
   ]
  },
  {
   "cell_type": "code",
   "execution_count": 28,
   "metadata": {
    "collapsed": false
   },
   "outputs": [
    {
     "name": "stdout",
     "output_type": "stream",
     "text": [
      "[   0.    1.    2.    3. -999.    5.    6.    7.    8.    9.]\n",
      "[ 0.  2.  4.  6.  8.]\n"
     ]
    }
   ],
   "source": [
    "a = np.arange(10.0)\n",
    "b = a.copy()[::2]     # or np.copy(a)\n",
    "a[4] = -999   # this will modify b as well...\n",
    "print(a)\n",
    "print(b)"
   ]
  },
  {
   "cell_type": "markdown",
   "metadata": {},
   "source": [
    "## Vectorization\n",
    "\n",
    "The best way to do mathematical operations using numpy arrays is to do `vector` operations. That is, mathematical operations are defined to be element by element, and this is done much faster than looping. As a rule of thumb, you should be very concerned if your code has more than one significant `for` loop in the numerical analysis section."
   ]
  },
  {
   "cell_type": "code",
   "execution_count": 38,
   "metadata": {
    "collapsed": false
   },
   "outputs": [],
   "source": [
    "a = np.arange(1024.0).reshape(4, 8, 16, 2)   # a 4D array using sequential numbers\n",
    "b = np.random.rand(4, 8, 16, 2)              # a 4D array using random numbers\n",
    "\n",
    "sol = a * b       # element-by-element multiplication"
   ]
  },
  {
   "cell_type": "markdown",
   "metadata": {},
   "source": [
    "## Array broadcasting\n",
    "\n",
    "Arrays may be operated on using vector operations even if they are different sized, however, they need to follow the rules of `array broadcasting`.  One way to think of this is that a larger dimension will be 'broadcast' across a singleton dimension. Generally, all of the dimensions need to be either the same size, or one of the dimensions should be of size 1. Arrays always have as many 'singleton' dimensions to the left as needed.  For example, these arrays will all 'broadcast'\n",
    "\n",
    "      a: 5 x 7 x 1 x 8\n",
    "      b:             8\n",
    "      c:     7 x 3 x 8\n",
    "      d: 5 x 1 x 3 x 1\n",
    "    \n",
    "    sol: 5 x 7 x 3 x 8   \n",
    "\n",
    "Let's create these arrays with random numbers"
   ]
  },
  {
   "cell_type": "code",
   "execution_count": 5,
   "metadata": {
    "collapsed": false
   },
   "outputs": [
    {
     "name": "stdout",
     "output_type": "stream",
     "text": [
      "(5, 7, 1, 8) (8,) (7, 3, 8) (5, 1, 3, 1)\n",
      "(5, 7, 3, 8)\n"
     ]
    }
   ],
   "source": [
    "a = np.random.rand(5, 7, 1, 8)\n",
    "b = np.random.rand(8)\n",
    "c = np.random.rand(7, 3, 8)\n",
    "d = np.random.rand(5, 1, 3, 1)\n",
    "print(a.shape, b.shape, c.shape, d.shape)\n",
    "\n",
    "sol = a * b * c * d\n",
    "print(sol.shape)"
   ]
  },
  {
   "cell_type": "code",
   "execution_count": 10,
   "metadata": {
    "collapsed": false,
    "scrolled": true
   },
   "outputs": [
    {
     "name": "stdout",
     "output_type": "stream",
     "text": [
      "[[ 19.24937858   7.21957797   2.64691043   9.78828023]\n",
      " [  0.19254712   3.90680162  19.55632014   3.48978368]\n",
      " [ 10.47437895  12.31982461  12.39177678  16.75143973]\n",
      " [ 10.25707733  18.74633428   6.81311675  19.42284333]]\n"
     ]
    }
   ],
   "source": [
    "f=np.random.rand(4,4)*20\n",
    "print(f)"
   ]
  },
  {
   "cell_type": "markdown",
   "metadata": {},
   "source": [
    "---\n",
    "### *Exercise*\n",
    "\n",
    "> Experiment with multiplying just two of the arrays together. Try to predict the resulting shape.\n",
    "\n",
    "---"
   ]
  },
  {
   "cell_type": "code",
   "execution_count": 9,
   "metadata": {
    "collapsed": false
   },
   "outputs": [
    {
     "name": "stdout",
     "output_type": "stream",
     "text": [
      "(5, 7, 3, 8)\n"
     ]
    }
   ],
   "source": [
    "sol = a*c*d\n",
    "print(sol.shape)"
   ]
  },
  {
   "cell_type": "code",
   "execution_count": 15,
   "metadata": {
    "collapsed": false
   },
   "outputs": [
    {
     "name": "stdout",
     "output_type": "stream",
     "text": [
      "[0 1 2 3 4 5]\n",
      "(6, 1)\n",
      "(1, 6)\n"
     ]
    },
    {
     "data": {
      "text/plain": [
       "array([[0, 1, 2, 3, 4, 5],\n",
       "       [1, 0, 1, 2, 3, 4],\n",
       "       [2, 1, 0, 1, 2, 3],\n",
       "       [3, 2, 1, 0, 1, 2],\n",
       "       [4, 3, 2, 1, 0, 1],\n",
       "       [5, 4, 3, 2, 1, 0]])"
      ]
     },
     "execution_count": 15,
     "metadata": {},
     "output_type": "execute_result"
    }
   ],
   "source": [
    "x = np.arange(6)\n",
    "print(x)\n",
    "x1=x[:,np.newaxis]\n",
    "print(x1.shape)\n",
    "x2=x[np.newaxis,:]\n",
    "print(x2.shape)\n",
    "np.abs(x1-x2)"
   ]
  },
  {
   "cell_type": "markdown",
   "metadata": {},
   "source": [
    "## Combining and splitting arrays\n",
    "Generally, arrays can be combined with the np.concatenate function. The arguments are a sequence of arrays to join, and the axis along which to join them (default=0).\n",
    "There are a number of convinience functions that act like concatenate for specific axes:\n",
    "\n",
    "np.vstack – vertical stack (stack along axis=0)\n",
    "\n",
    "np.hstack – horizontal stack (stack along axis=1)\n",
    "\n",
    "np.dstack – depth stack (stack along axis=2)"
   ]
  },
  {
   "cell_type": "markdown",
   "metadata": {},
   "source": [
    "## Linear algebra\n",
    "\n",
    "One of the key elements of the `numpy` package is the `numpy.linalg` subpackage that contains a number of linear algebra functions that work efficiently on arrays."
   ]
  },
  {
   "cell_type": "code",
   "execution_count": 54,
   "metadata": {
    "collapsed": false
   },
   "outputs": [],
   "source": [
    "a = np.random.randn(100, 100)\n",
    "e, v = np.linalg.eig(a)\n",
    "\n",
    "b = np.random.randn(500, 200)\n",
    "u, s, v = np.linalg.svd(b)"
   ]
  },
  {
   "cell_type": "markdown",
   "metadata": {},
   "source": [
    "## Basic performance evaluation\n",
    "\n",
    "We can do some very basic perfomance testing using the `%time` special function in ipython notebooks. Lets use this to examine the time it takes to do a singular value decomposition for different sized matricies."
   ]
  },
  {
   "cell_type": "code",
   "execution_count": 60,
   "metadata": {
    "collapsed": false
   },
   "outputs": [
    {
     "name": "stdout",
     "output_type": "stream",
     "text": [
      "CPU times: user 49.4 ms, sys: 10.5 ms, total: 59.9 ms\n",
      "Wall time: 33.1 ms\n"
     ]
    }
   ],
   "source": [
    "b = np.random.randn(500, 200)\n",
    "%time u, s, v = np.linalg.svd(b)"
   ]
  },
  {
   "cell_type": "markdown",
   "metadata": {},
   "source": [
    "If the time might change, say based on the values chosen, the `%timeit` function can be used to perform the test a number of times to get an average calculation time."
   ]
  },
  {
   "cell_type": "code",
   "execution_count": 61,
   "metadata": {
    "collapsed": false
   },
   "outputs": [
    {
     "name": "stdout",
     "output_type": "stream",
     "text": [
      "1000 loops, best of 3: 225 µs per loop\n"
     ]
    }
   ],
   "source": [
    "%timeit b = np.random.randn(50, 20); u, s, v = np.linalg.svd(b)"
   ]
  },
  {
   "cell_type": "markdown",
   "metadata": {},
   "source": [
    "## Overview of scipy packages\n",
    "\n",
    "The `scipy` package contains a number of specialized numerical computational tools. These tools are usually very specific, and in the case of the linear algebra tools, may be optimized for your particular hardware.\n",
    "\n",
    "     cluster                      --- Vector Quantization / Kmeans\n",
    "     fftpack                      --- Discrete Fourier Transform algorithms\n",
    "     integrate                    --- Integration routines\n",
    "     interpolate                  --- Interpolation Tools\n",
    "     io                           --- Data input and output\n",
    "     lib                          --- Python wrappers to external libraries\n",
    "     lib.lapack                   --- Wrappers to LAPACK library\n",
    "     linalg                       --- Linear algebra routines\n",
    "     misc                         --- Various utilities that don't have\n",
    "                                      another home.\n",
    "     ndimage                      --- n-dimensional image package\n",
    "     odr                          --- Orthogonal Distance Regression\n",
    "     optimize                     --- Optimization Tools\n",
    "     signal                       --- Signal Processing Tools\n",
    "     sparse                       --- Sparse Matrices\n",
    "     sparse.linalg                --- Sparse Linear Algebra\n",
    "     sparse.linalg.dsolve         --- Linear Solvers\n",
    "     sparse.linalg.dsolve.umfpack --- :Interface to the UMFPACK library:\n",
    "                                      Conjugate Gradient Method (LOBPCG)\n",
    "     sparse.linalg.eigen.lobpcg   --- Locally Optimal Block Preconditioned\n",
    "                                      Conjugate Gradient Method (LOBPCG) [*]\n",
    "     special                      --- Airy Functions [*]\n",
    "     lib.blas                     --- Wrappers to BLAS library [*]\n",
    "     sparse.linalg.eigen          --- Sparse Eigenvalue Solvers [*]\n",
    "     stats                        --- Statistical Functions [*]\n",
    "     lib                          --- Python wrappers to external libraries\n",
    "                                      [*]\n",
    "     lib.lapack                   --- Wrappers to LAPACK library [*]\n",
    "     integrate                    --- Integration routines [*]\n",
    "     ndimage                      --- n-dimensional image package [*]\n",
    "     linalg                       --- Linear algebra routines [*]\n",
    "     spatial                      --- Spatial data structures and algorithms\n",
    "     special                      --- Airy Functions\n",
    "     stats                        --- Statistical Functions\n"
   ]
  },
  {
   "cell_type": "code",
   "execution_count": 62,
   "metadata": {
    "collapsed": true
   },
   "outputs": [],
   "source": [
    "import scipy   # This actually does nothing. Submodules must be explicitly imported"
   ]
  },
  {
   "cell_type": "markdown",
   "metadata": {},
   "source": [
    "## `scipy.stats`"
   ]
  },
  {
   "cell_type": "code",
   "execution_count": 66,
   "metadata": {
    "collapsed": true
   },
   "outputs": [],
   "source": [
    "import scipy.stats"
   ]
  },
  {
   "cell_type": "code",
   "execution_count": 76,
   "metadata": {
    "collapsed": false
   },
   "outputs": [
    {
     "data": {
      "text/plain": [
       "array([ 0.02489353,  0.02643286,  0.02806738,  0.02980297,  0.03164588,\n",
       "        0.03360276,  0.03568063,  0.037887  ,  0.0402298 ,  0.04271748,\n",
       "        0.04535898,  0.04816382,  0.0511421 ,  0.05430455,  0.05766256,\n",
       "        0.06122821,  0.06501436,  0.06903462,  0.07330348,  0.07783632,\n",
       "        0.08264944,  0.0877602 ,  0.09318699,  0.09894935,  0.10506804,\n",
       "        0.11156508,  0.11846388,  0.12578928,  0.13356765,  0.14182701,\n",
       "        0.15059711,  0.15990951,  0.16979776,  0.18029747,  0.19144644,\n",
       "        0.20328483,  0.21585526,  0.22920301,  0.24337613,  0.25842567,\n",
       "        0.27440582,  0.29137413,  0.3093917 ,  0.32852341,  0.34883816,\n",
       "        0.37040911,  0.39331393,  0.41763511,  0.44346022,  0.47088227,\n",
       "        0.5       ,  0.47088227,  0.44346022,  0.41763511,  0.39331393,\n",
       "        0.37040911,  0.34883816,  0.32852341,  0.3093917 ,  0.29137413,\n",
       "        0.27440582,  0.25842567,  0.24337613,  0.22920301,  0.21585526,\n",
       "        0.20328483,  0.19144644,  0.18029747,  0.16979776,  0.15990951,\n",
       "        0.15059711,  0.14182701,  0.13356765,  0.12578928,  0.11846388,\n",
       "        0.11156508,  0.10506804,  0.09894935,  0.09318699,  0.0877602 ,\n",
       "        0.08264944,  0.07783632,  0.07330348,  0.06903462,  0.06501436,\n",
       "        0.06122821,  0.05766256,  0.05430455,  0.0511421 ,  0.04816382,\n",
       "        0.04535898,  0.04271748,  0.0402298 ,  0.037887  ,  0.03568063,\n",
       "        0.03360276,  0.03164588,  0.02980297,  0.02806738,  0.02643286,\n",
       "        0.02489353])"
      ]
     },
     "execution_count": 76,
     "metadata": {},
     "output_type": "execute_result"
    }
   ],
   "source": [
    "rv = scipy.stats.laplace(loc=0, scale=1)\n",
    "rv.pdf(np.linspace(-3, 3, 101))    # create a pdf of the laplace distribution with parameters loc=0, scale=1"
   ]
  },
  {
   "cell_type": "code",
   "execution_count": 75,
   "metadata": {
    "collapsed": false
   },
   "outputs": [
    {
     "data": {
      "text/plain": [
       "array([  5.08085355e-01,   6.77504356e-01,   6.18632384e-01,\n",
       "         9.93174161e-01,  -9.65876650e-01,   1.04189578e+00,\n",
       "         2.01551251e-01,  -1.77998856e+00,  -5.24858114e-01,\n",
       "         3.31132756e-01,   1.15712688e+00,   4.55948867e-01,\n",
       "        -7.15281884e-01,   4.44971326e-01,  -3.45735652e-01,\n",
       "        -2.29423878e+00,   1.18204842e+00,   1.27521959e+00,\n",
       "        -5.94673002e-01,  -8.42419001e-02,   7.21474649e-01,\n",
       "        -4.39384714e-01,   1.80042192e-02,   1.23734978e+00,\n",
       "         4.19564079e+00,  -3.72703353e-02,  -7.87243573e-01,\n",
       "        -9.00689704e-01,  -2.07045058e+00,   3.80240333e-01,\n",
       "        -1.06482015e+00,   2.74345605e+00,  -8.28299425e-01,\n",
       "         2.45545279e+00,  -7.10164877e-01,  -1.84399768e+00,\n",
       "         2.23795009e+00,   2.07578135e-01,   3.11807037e-01,\n",
       "        -3.29286734e-02,   3.13466044e+00,  -3.81443569e-01,\n",
       "        -8.85958035e-01,  -6.84075990e-02,   1.02907375e+00,\n",
       "         2.05006678e+00,  -8.36560551e-01,   2.87728473e-01,\n",
       "         1.87940620e+00,  -7.62591635e-02,   1.04565638e+00,\n",
       "         3.04344166e-01,   1.12430279e-01,   1.05087772e+00,\n",
       "         1.99757112e+00,   1.89397519e+00,   1.91287878e+00,\n",
       "         2.10863160e+00,  -5.38851089e-02,   1.03471770e-01,\n",
       "         1.54194076e+00,  -7.86302488e-01,  -8.64346122e-01,\n",
       "        -1.61678903e+00,  -1.18240965e-01,   6.56760090e-01,\n",
       "         3.03457983e+00,  -2.65736312e+00,  -1.13419083e+00,\n",
       "        -9.46135880e-01,  -5.77361751e-01,   1.91292841e+00,\n",
       "         2.79075328e-01,  -8.39642471e-01,   1.06353927e+00,\n",
       "         2.16917244e+00,  -2.04838256e-02,  -3.76696216e+00,\n",
       "         8.00611404e-01,  -2.26098577e-02,   5.41690573e-01,\n",
       "         3.46962619e-01,  -1.14125343e+00,   2.88638528e+00,\n",
       "         9.33252461e-01,  -1.48099674e+00,  -9.33880968e-01,\n",
       "         7.73517577e-02,  -1.75039220e+00,   4.88100897e-02,\n",
       "        -2.99084974e-01,   1.97786996e-01,   2.26758173e-01,\n",
       "        -2.45867825e-01,  -1.09939842e+00,  -6.61887889e-01,\n",
       "         1.26311517e+00,   9.47183389e-03,   4.74841984e-01,\n",
       "         1.26840787e+00,  -7.33218914e-01,  -2.81700817e-01,\n",
       "        -9.16842315e-01,  -1.28400288e+00,  -2.23245549e-01,\n",
       "         1.15165223e-01,  -1.59032417e+00,   1.26609660e-02,\n",
       "         2.58646316e-01,   9.03808446e-01,  -1.56851043e+00,\n",
       "        -2.20298881e+00,  -1.88533460e+00,   6.66001730e-01,\n",
       "        -7.65705655e-01,  -1.09438813e-01,   5.49181065e-01,\n",
       "        -1.49984847e+00,   1.51103322e+00,  -3.55098796e-01,\n",
       "         4.17421455e+00,   2.08300605e-01,  -1.18231405e+00,\n",
       "         2.70365410e-01,  -1.14373923e+00,  -2.47952695e-01,\n",
       "         6.56388141e-01,   1.40091099e+00,   9.87407947e-02,\n",
       "        -1.71486341e+00,  -4.15817030e-01,   2.03326029e+00,\n",
       "        -1.13626433e-01,   1.54545058e-01,  -1.49299844e-01,\n",
       "        -6.86015581e+00,   1.17836322e+00,  -8.99723262e-01,\n",
       "        -7.08752513e-01,  -1.12183779e+00,  -3.86436359e-01,\n",
       "         8.91391153e-01,  -1.22038664e+00,   3.67871720e-01,\n",
       "        -2.56567157e-01,  -1.27445109e+00,   4.92216818e-01,\n",
       "        -2.89223670e+00,   4.82652219e-01,  -2.28295573e-01,\n",
       "         1.41333947e-01,  -2.28056011e+00,  -1.14455792e-01,\n",
       "         9.22582141e-03,  -1.06448567e+00,  -2.44212481e-01,\n",
       "         2.72064424e+00,  -9.46111540e-02,   6.94599904e-01,\n",
       "         1.21792020e+00,  -1.35887612e-01,   7.52966124e-01,\n",
       "        -1.23860601e+00,  -2.37093452e+00,   4.19390435e+00,\n",
       "        -1.30082631e+00,  -1.80006001e+00,  -2.08032370e+00,\n",
       "         2.48835821e-01,  -1.70719286e-01,  -2.00439610e+00,\n",
       "         3.46213578e-01,   6.61379789e-01,   7.19662951e-01,\n",
       "        -4.32467129e-01,  -1.44433948e+00,   6.34617695e-01,\n",
       "         2.66432356e+00,   9.71140814e-01,  -5.40236360e-01,\n",
       "         9.27103283e-01,  -5.19018999e-01,   4.76427682e-01,\n",
       "         1.12589029e+00,  -1.05010331e-01,   6.26123881e-01,\n",
       "        -1.19172718e+00,  -1.28128750e-01,   6.13283830e-01,\n",
       "        -3.44894070e+00,  -2.96751591e-01,  -5.26160962e-01,\n",
       "        -1.07871671e+00,  -4.90761516e-01,   1.55688021e-01,\n",
       "        -2.16875409e+00,  -1.17757890e+00,   5.75427753e-01,\n",
       "         6.54290114e-01,   3.23916486e+00,  -1.79687857e+00,\n",
       "        -1.22237999e+00,   4.51446760e-01,   4.10940181e-01,\n",
       "         3.91132197e-01,   9.94383944e-01,   3.74870473e-01,\n",
       "        -9.08436849e-01,  -4.49276180e-01,   5.91553549e+00,\n",
       "        -1.20389416e+00,   4.13569059e+00,   1.30103316e+00,\n",
       "         2.18227414e-01,   3.01688799e-01,   1.01942677e+00,\n",
       "        -7.45670346e-01,   9.19786845e-01,  -4.63176704e-01,\n",
       "         2.10245924e+00,  -2.28328554e+00,  -1.43124649e+00,\n",
       "        -5.68939773e-01,  -3.33564404e+00,   6.31921248e-01,\n",
       "         1.04737645e-01,  -3.77963230e+00,  -6.99219912e-01,\n",
       "        -7.91138955e-01,   5.92387068e-01,  -4.70951109e-02,\n",
       "        -1.30108717e-01,   4.90056869e-01,  -1.11446652e+00,\n",
       "         1.15646716e+00,   4.02790128e-02,   8.19258131e-02,\n",
       "        -4.98507521e-01,  -1.12532845e+00,   2.08139105e+00,\n",
       "        -5.66862440e-01,  -7.86150199e-01,   8.92870929e-01,\n",
       "        -1.71328041e-01,  -2.46658906e+00,   7.30091155e-01,\n",
       "        -6.40560230e-01,   7.94876120e-01,   8.81263177e-02,\n",
       "        -1.42625071e-01,  -2.21345802e+00,   7.70911476e-01,\n",
       "         6.75227357e-01,   1.59235565e+00,  -2.32539844e-01,\n",
       "         4.58752383e-01,  -3.29025784e+00,  -2.71905056e-01,\n",
       "        -5.70773230e-01,   8.90824118e-01,   2.03779541e-01,\n",
       "         5.97479712e-01,  -1.53859741e+00,  -3.11381428e-01,\n",
       "        -2.35757226e-01,   1.41542800e+00,   6.77743758e-01,\n",
       "         2.23805890e+00,  -1.69464894e-01,  -1.79645555e+00,\n",
       "        -7.74197475e-02,  -4.23240830e-01,  -2.05396644e-01,\n",
       "         6.22500369e-01,   2.35494497e-01,  -8.86341165e-01,\n",
       "        -4.97814479e-01,   4.05711903e-01,  -2.46152552e-01,\n",
       "        -2.87201628e+00,   8.40650025e-01,   9.92485176e-01,\n",
       "        -1.05564262e+00,  -2.25591925e+00,   1.55733662e+00,\n",
       "         1.27420834e+00,  -5.89401234e-01,   3.12827207e-01,\n",
       "        -4.50636130e-02,   1.06959646e-01,  -1.11296008e-01,\n",
       "         1.72489105e-01,  -9.81539845e-01,  -7.82264683e-01,\n",
       "        -7.84125467e-01,   2.47241729e+00,  -4.92054805e-02,\n",
       "         1.21550266e+00,   2.57014156e-01,  -2.18450549e+00,\n",
       "         1.82106174e+00,  -2.23438847e-02,  -3.36163402e-02,\n",
       "        -2.98582767e-01,  -3.27453029e-01,  -7.72871657e-01,\n",
       "        -1.75859245e+00,   2.89087973e+00,  -1.05949491e+00,\n",
       "         4.45107649e+00,  -4.15468516e-01,   5.85899106e-01,\n",
       "         1.98950559e-01,   1.35109177e+00,  -5.01010520e-01,\n",
       "         1.28256745e+00,  -1.54654149e-01,   2.24666497e-01,\n",
       "        -7.77188415e-01,   1.81824714e+00,  -3.69023171e-01,\n",
       "         5.62836889e-01,   1.03839810e-01,   3.89235326e+00,\n",
       "         5.78122347e-01,   1.75372789e+00,   3.55719304e+00,\n",
       "        -7.62467795e-01,   1.00467280e+00,   1.27119730e+00,\n",
       "        -6.69996260e-01,   1.74952767e-01,   1.31851053e+00,\n",
       "         4.08137655e-01,   2.88310161e+00,  -1.79938023e+00,\n",
       "         3.07477052e-01,  -1.95013240e+00,  -1.04897934e+00,\n",
       "        -1.42083046e+00,   5.14564625e-01,  -7.36336418e-01,\n",
       "        -9.04294761e-01,  -3.41658578e-01,   2.14851217e+00,\n",
       "        -1.16435236e-01,   4.84640642e-01,  -7.90431028e-01,\n",
       "         2.71167518e-01,  -1.96914612e+00,  -5.61299838e-01,\n",
       "        -2.34168640e+00,   1.46628244e+00,   1.19657995e+00,\n",
       "         3.20023103e+00,  -1.33334908e+00,   1.97434135e-01,\n",
       "        -9.08683273e-02,   1.59037047e+00,   2.81157194e+00,\n",
       "         7.69830673e-01,   2.48703570e+00,  -3.52461781e-01,\n",
       "        -7.69772042e-01,  -1.55264905e+00,   6.84237409e-01,\n",
       "        -6.89493736e-01,   4.97154741e-01,   1.09760419e+00,\n",
       "         2.30372036e+00,  -2.71311587e-01,  -2.70251560e-01,\n",
       "        -3.03395754e-01,  -6.42265358e-01,   3.44672614e-01,\n",
       "         3.03865033e-01,  -2.81115739e-01,  -2.65332196e+00,\n",
       "        -1.94232054e+00,   3.17619984e+00,  -1.52641965e+00,\n",
       "         2.79261479e-02,   4.79125449e-01,  -6.50258816e-01,\n",
       "        -8.24335287e-01,   3.15075974e-01,   8.22543770e-01,\n",
       "         1.69665326e-01,   1.20607955e-01,  -8.90995616e-01,\n",
       "        -1.54202152e+00,  -1.81935158e+00,  -1.16415378e+00,\n",
       "        -2.40496044e+00,   1.84812367e-01,  -4.37420532e+00,\n",
       "        -2.61225601e-01,   1.72014910e+00,  -8.36309383e-01,\n",
       "         7.34975170e-01,  -6.21166115e-02,   2.29149386e+00,\n",
       "         1.14918095e+00,  -2.11457103e+00,   4.81434381e+00,\n",
       "         6.00268803e-01,   5.99725797e-01,  -4.16201032e-01,\n",
       "         1.56285110e+00,  -4.26153083e-02,   1.63161051e-01,\n",
       "         3.62908258e-02,  -3.92321364e-01,   6.17738282e-01,\n",
       "         5.25273408e+00,   1.02230660e+00,   1.09011046e-01,\n",
       "         2.59347633e+00,  -2.80495239e-01,   1.33394434e+00,\n",
       "         1.18078664e+00,   1.20073532e-01,  -3.29923594e+00,\n",
       "         3.34423849e-01,  -9.01123768e-01,  -8.56671126e-01,\n",
       "        -3.85955683e+00,   1.65930300e+00,  -2.47571914e+00,\n",
       "        -7.95713470e-01,   1.98309286e-01,   1.29458241e+00,\n",
       "         1.85090532e+00,   3.31408754e+00,  -1.65464094e-01,\n",
       "        -1.75536546e-01,   1.39798678e+00,  -1.63050948e+00,\n",
       "        -3.02341278e-01,  -5.47426334e-01,  -2.10882179e+00,\n",
       "        -2.37527444e-01,   9.40265633e-01,  -1.17683613e+00,\n",
       "        -6.60294075e-01,   4.18028329e-02,   3.23793784e+00,\n",
       "        -2.34776842e-01,   2.47160733e+00,  -2.46141004e-01,\n",
       "        -8.95936238e-02,   1.60243596e-01,  -2.22559226e-01,\n",
       "         1.02698332e+00,  -4.17993616e-01,   4.14545127e-01,\n",
       "        -1.36458036e+00,  -1.25965006e+00,   3.67602862e-02,\n",
       "        -5.31024838e-01,  -6.81527735e-01,   8.89129181e-01,\n",
       "        -5.22794237e-01,   2.68684576e+00,   1.72755432e+00,\n",
       "        -2.96110955e+00,  -5.49557818e-01,   8.58124386e-01,\n",
       "         2.43173326e-01,  -8.89069276e-01,  -5.01430330e-01,\n",
       "         7.70668460e-01,   2.87641470e-01,   2.04883891e+00,\n",
       "        -1.12702625e+00,  -5.06609367e-01,  -1.35176966e+00,\n",
       "         1.31611825e+00,  -1.45871094e+00,  -2.67263057e-01,\n",
       "         7.88681301e-01,   1.82933231e-01,  -1.06695823e+00,\n",
       "        -9.87978818e-02,   4.33268234e-02,   5.43626919e-02,\n",
       "        -1.38603397e+00,   2.28932987e+00,  -8.10990459e+00,\n",
       "         2.78055684e-01,   5.18889511e-01,   1.19932107e+00,\n",
       "         4.63030414e+00,  -1.13164336e+00,   1.62711185e+00,\n",
       "        -6.05602802e-01,   1.15817746e+00,   1.50796041e-01,\n",
       "        -8.82530676e-01,  -1.83603378e+00,  -6.04783976e-02,\n",
       "        -4.72830535e-03,  -5.10051123e-01,  -1.44312188e-01,\n",
       "         2.35172696e+00,   2.18010842e-01,   4.65111282e-01,\n",
       "         8.55951984e-01,  -1.02727613e-01,  -3.99446172e-02,\n",
       "         2.03563969e-01,   4.89894041e-01,  -1.85653011e-01,\n",
       "        -2.44751572e+00,   1.49335632e+00,  -9.89414170e-01,\n",
       "         1.38751292e+00,  -9.39652502e-01,  -2.35270758e+00,\n",
       "        -1.96521797e-01,   8.13627624e-01,  -2.53111499e-01,\n",
       "        -1.67445595e+00,   1.87622434e+00,   8.26664515e-01,\n",
       "        -2.22269809e+00,   1.39348414e+00,  -2.02999158e+00,\n",
       "        -2.33353592e+00,   1.37948464e-01,   5.89411501e-01,\n",
       "        -2.00838741e+00,  -1.24554782e+00,  -9.76755061e-01,\n",
       "         6.07159907e-01,  -1.53250637e-02,  -1.99490678e+00,\n",
       "        -1.95429384e-01,  -1.86165101e+00,   1.50800706e+00,\n",
       "        -1.24023162e+00,   2.79273992e+00,  -2.51244350e+00,\n",
       "         2.08602273e-02,   1.39616415e+00,  -1.20078660e+00,\n",
       "         1.39105452e-01,  -4.58662169e-02,   5.10822858e-01,\n",
       "        -3.42757474e-01,   1.56696166e-01,  -7.89258408e-01,\n",
       "        -2.03304958e-01,   6.02783544e-01,  -2.11993656e+00,\n",
       "         5.20372959e-01,   5.33333060e+00,  -2.10734456e-01,\n",
       "        -5.44891120e-01,   5.15331021e-01,   2.11803107e+00,\n",
       "         3.33474265e-01,   9.60150139e-02,  -1.42884160e+00,\n",
       "         1.27175930e-01,   6.05945487e-01,  -6.39921510e-01,\n",
       "        -6.34030725e-02,   2.88617017e-01,   4.98380346e-01,\n",
       "         1.28587949e+00,  -2.65593532e-01,   9.11990458e-01,\n",
       "         1.28749887e+00,  -1.03081939e-01,   4.60483459e-01,\n",
       "         1.35337239e+00,   4.23714902e-01,  -5.53866996e-01,\n",
       "        -6.45237028e-01,  -1.28842119e+00,  -3.01638762e-01,\n",
       "        -5.66299705e-01,   1.17316684e+00,  -2.07764130e+00,\n",
       "         1.23577669e-01,   4.37198129e-02,   4.10502481e-01,\n",
       "        -8.69525727e-01,   8.57351456e-01,  -8.94330307e-01,\n",
       "         9.46805940e-01,  -2.01234100e-01,  -1.95054289e-01,\n",
       "        -8.97648368e-01,   2.15107874e+00,  -3.85286603e-01,\n",
       "         1.18187001e+00,  -2.51783787e-01,  -4.35441462e+00,\n",
       "        -1.64340279e+00,  -2.17540456e-01,  -1.55145983e+00,\n",
       "        -5.89106805e-01,   1.31539282e-01,  -1.86619476e+00,\n",
       "        -3.95274952e-01,  -6.29427454e-01,   1.05259483e+00,\n",
       "         1.79552992e+00,  -7.85776016e-01,   1.78820241e-01,\n",
       "        -3.07474208e-01,  -3.54082436e+00,   2.23317968e-01,\n",
       "        -1.00053799e+00,  -3.68167421e+00,   1.43381943e-01,\n",
       "        -1.47036624e+00,   1.37294431e+00,  -1.73477047e+00,\n",
       "        -5.52054348e-01,  -1.53671948e+00,  -1.27156997e+00,\n",
       "         2.74868626e-01,  -8.88623204e-01,   6.65072725e-01,\n",
       "         5.88787878e-01,   3.88622738e-01,  -4.49983382e+00,\n",
       "        -9.24818367e-01,  -2.21877379e-02,   1.12152113e-01,\n",
       "         1.00959496e-03,   6.47902288e-01,   2.44470734e-01,\n",
       "        -9.59729380e-02,  -1.78354760e+00,  -6.13477329e-01,\n",
       "        -3.27033101e+00,  -2.23413497e+00,   7.09650718e-01,\n",
       "        -4.10726793e-01,   1.66506414e+00,  -1.49633865e-01,\n",
       "        -6.01374307e-02,  -5.25773660e-01,   2.49500817e-01,\n",
       "        -1.15156945e-01,  -2.60208086e+00,   1.29102018e+00,\n",
       "         1.18046939e+00,   1.59757326e-01,  -1.74949279e-01,\n",
       "         5.45521506e-01,   3.91774861e-01,   1.85127244e-01,\n",
       "         7.16713576e-01,  -1.95672338e+00,   1.28099013e+00,\n",
       "         9.59099352e-01,  -3.54628624e-01,   3.51257925e-01,\n",
       "         7.47402159e-01,   7.41401273e-01,   9.58286019e-01,\n",
       "         4.08840355e-01,   4.05362504e-02,  -4.98638457e-01,\n",
       "        -2.30026717e+00,   1.05478111e+00,  -8.19498127e-01,\n",
       "         5.01982956e-02,  -8.51293799e-01,  -2.91771084e-01,\n",
       "         1.47765032e-01,  -5.59250813e-01,   1.22892411e+00,\n",
       "         1.35888064e+00,  -4.35485079e-01,  -5.02716949e-01,\n",
       "        -4.86371751e+00,   5.16864230e-01,   1.90632052e+00,\n",
       "         1.27632738e-01,  -1.11568544e+00,   3.86334379e-01,\n",
       "         1.08158187e-01,   1.20386552e+00,   1.23014761e+00,\n",
       "         1.22096118e+00,  -3.31560245e-02,   6.32853121e-01,\n",
       "         1.49708612e+00,  -4.02588830e-01,  -2.85173351e-01,\n",
       "        -5.01203272e-02,  -1.21703546e-01,   1.40068496e+00,\n",
       "         5.98995003e-02,  -3.57271908e-01,   6.09932881e-01,\n",
       "         1.76675371e-01,  -1.08355066e+00,  -5.95909119e-01,\n",
       "        -2.97778641e+00,  -2.74554360e+00,   1.54026891e+00,\n",
       "         1.18436994e+00,  -1.01872240e+00,   1.15377541e+00,\n",
       "        -3.85869068e-01,  -2.06210366e+00,   3.25526828e+00,\n",
       "        -7.51674722e-01,   5.67284539e-01,   8.80045399e-01,\n",
       "         4.01359831e-01,   1.66685270e+00,  -2.93092513e-02,\n",
       "         7.84747803e-01,   1.41638435e-01,  -6.47810997e-01,\n",
       "         3.30164336e+00,  -3.72836877e+00,  -1.73280748e+00,\n",
       "         4.30190155e+00,   8.17612594e-01,  -7.00323207e-01,\n",
       "        -3.75333036e+00,   1.17707846e+00,  -1.18018838e+00,\n",
       "         1.14185961e+00,   1.33997311e+00,   5.13170656e-02,\n",
       "         4.31641699e-01,  -1.06935628e+00,   1.54827312e+00,\n",
       "        -4.66619067e-01,   9.21614185e-01,  -9.80007536e-01,\n",
       "         3.81352723e-02,   3.30665010e-01,  -1.04440163e+00,\n",
       "        -9.95119332e-02,  -5.02298882e-02,  -5.18944397e-01,\n",
       "        -1.09849370e+00,  -1.36831537e-02,  -2.50470637e-02,\n",
       "         1.10339760e+00,  -1.31480983e+00,  -5.22048699e-01,\n",
       "        -2.60020759e+00,   4.24898592e-01,  -4.13193121e+00,\n",
       "        -2.14935798e+00,   8.93063769e-01,   3.75619691e-01,\n",
       "         5.50653759e-02,   2.22856322e-01,   1.52922244e+00,\n",
       "         4.39215267e-01,   8.71939411e-01,   9.45805194e-02,\n",
       "         1.40189868e+00,   3.49127567e-01,   4.74618978e-01,\n",
       "         5.64913609e-02,  -6.85014693e-01,   1.06027195e+00,\n",
       "        -6.41625195e-01,   1.11843157e-01,  -7.12649280e-01,\n",
       "        -2.49785739e-01,   7.47111887e-02,  -2.60140378e+00,\n",
       "         5.38205944e-01,  -5.21955097e-01,   9.65979928e-01,\n",
       "        -1.93075099e-01,   2.79717678e-01,   7.09313034e-01,\n",
       "         3.14141430e-01,   7.77525301e-02,   4.67348336e-01,\n",
       "        -4.61546504e-01,  -5.72272882e-01,  -4.62933928e-01,\n",
       "         1.53451168e+00,   1.76154597e+00,  -3.32434049e-01,\n",
       "         6.56278841e-01,   3.90543869e-01,   8.00267081e-01,\n",
       "         1.32299080e-01,   1.21794722e+00,   7.92593741e-01,\n",
       "         1.53856769e+00,  -2.23744031e-01,  -7.21009406e-01,\n",
       "         1.36081824e+00,  -3.23647531e-01,  -1.73683438e-02,\n",
       "        -3.55084562e-01,  -2.85578441e+00,  -4.49496376e-01,\n",
       "        -9.40248749e-01,  -3.46535903e+00,  -1.25125794e+00,\n",
       "        -1.37803665e+00,  -1.70532155e-01,   2.71244601e-01,\n",
       "         1.41312929e+00,  -1.20099078e-01,   1.37967808e+00,\n",
       "        -8.33133990e-03,   1.77336908e+00,   4.53812811e-01,\n",
       "         2.71774972e-01,   2.66991664e-02,   4.96500555e-01,\n",
       "        -2.70837064e-01,  -5.52774295e-01,  -2.83850012e-01,\n",
       "         7.80400688e-01,   1.80946641e+00,   2.71091520e-01,\n",
       "        -6.94251477e-01,   7.35176735e-02,  -2.45703583e-01,\n",
       "         3.28381546e-01,   5.41039426e-01,   1.81820458e+00,\n",
       "         1.94577112e+00,   6.25657364e-01,   6.01691903e-01,\n",
       "        -1.14044160e+00,   8.21860709e-01,   1.10647455e-01,\n",
       "        -2.88656850e-01,   2.57614229e+00,  -5.95426258e-01,\n",
       "        -6.56788084e-01,   4.91842153e-01,   5.73573941e-01,\n",
       "         7.77625599e-01,   1.81737168e-01,   2.96140782e-01,\n",
       "        -6.66319561e-01,  -8.59080056e-01,  -4.22445410e-01,\n",
       "         3.74119323e-01,  -1.18155502e+00,  -1.70652821e-01,\n",
       "         1.44227060e+00,  -1.95474844e+00,   1.33294312e+00,\n",
       "         2.97469552e-02,  -1.11189965e-02,   1.01027670e+00,\n",
       "        -9.62330969e-01,  -4.29579474e-01,  -4.27843617e+00,\n",
       "         3.12274064e-01,  -9.49610248e-01,   2.18725573e+00,\n",
       "        -1.36615303e+00,  -1.37411902e+00,  -8.60624513e-01,\n",
       "         9.97039776e-01,  -2.25373292e+00,  -1.02365158e+00,\n",
       "         5.11065954e-01,   1.25921018e+00,   6.73781959e-01,\n",
       "        -3.95068318e-01,   2.78297477e-01,   1.20909592e-01,\n",
       "         9.41855372e-01,   2.15107690e+00,  -7.36814074e-01,\n",
       "        -8.76441869e-01,   1.65899554e+00,   1.33003797e-01,\n",
       "        -4.42578515e-01,  -1.23340883e+00,  -7.63509755e-01,\n",
       "         3.10478075e-01,  -2.69723718e+00,  -2.21872143e+00,\n",
       "        -3.93587577e+00,  -1.17973412e+00,  -2.69572735e+00,\n",
       "         2.41879049e+00,  -1.93938704e-01,  -8.93840707e-01,\n",
       "        -3.34309357e+00,  -1.49860955e+00,   6.79303960e-01,\n",
       "         9.50243355e-01,   1.09363286e+00,   2.33460257e-01,\n",
       "        -2.76403012e-01,   4.85707147e-01,  -6.91431451e-01,\n",
       "        -1.39908925e+00,  -1.13665438e+00,  -1.93455670e+00,\n",
       "         4.67838054e-01,   1.83685840e-01,   4.68642001e-01,\n",
       "        -1.83112958e+00,   5.54501477e-02,   7.88345468e-01,\n",
       "        -4.31166890e+00,   1.80227594e+00,   2.14940734e-01,\n",
       "         1.60260652e-01,   7.31184271e-01,  -8.92030440e-01,\n",
       "        -3.05161181e-02,  -3.83850141e-01,  -1.25287534e+00,\n",
       "         2.49331185e+00,  -1.72720759e+00,   1.63987280e-01,\n",
       "        -3.83393100e-01,   3.79070407e-01,  -3.08783750e+00,\n",
       "         3.45172144e-01,  -1.12930905e+00,   2.38555279e-01,\n",
       "        -7.44170006e-01,   8.16461378e-01,   3.56396002e-01,\n",
       "        -3.48689222e-01,   2.43414570e-01,   1.48601343e+00,\n",
       "         6.09214116e-01,   2.95868212e-01,   2.49684361e+00,\n",
       "        -4.83829958e-01,   8.47371690e-01,  -3.51319755e+00,\n",
       "        -2.23807513e-01,   7.07321503e-01,  -9.83840405e-01,\n",
       "         5.74805693e-01,   1.99414694e-01,   1.67832187e-01,\n",
       "         1.20467037e+00,   8.87832055e-01,   2.52071394e-01,\n",
       "        -3.47218167e-02,   3.17076053e+00,   1.84112496e-03,\n",
       "        -6.14061274e-01,  -2.75580380e+00,  -2.76075856e-01,\n",
       "        -7.05388611e-01,  -3.21805585e-01,  -9.07284248e-01,\n",
       "         5.07984700e+00,  -2.21008470e-01,  -3.33187108e+00,\n",
       "        -1.05946755e+00,   2.91215935e-01,   1.37999828e-01,\n",
       "        -1.68662923e-01,  -7.55722999e-01,   5.15264075e-02,\n",
       "        -1.87974973e+00,   2.69691118e+00,  -3.43936630e-02,\n",
       "         1.12355550e+00,   8.48288342e-01,   1.46603440e+00,\n",
       "         3.01663675e+00,   2.57638518e-01,   1.94489624e+00,\n",
       "         1.52159201e-02,  -3.77300837e-02,   3.92552492e-01,\n",
       "         5.64389944e-01,  -2.08484855e-01,   6.86775820e-01,\n",
       "         1.68859684e+00,   1.12023730e+00,  -1.92259746e-01,\n",
       "         1.69135279e+00,  -2.28280175e+00,   9.18943351e-02,\n",
       "         4.82340947e-02,  -9.31788181e-01,   6.12454486e-01,\n",
       "        -5.10705469e+00,  -4.97931497e-02,   1.63648096e+00,\n",
       "         1.53174132e-01])"
      ]
     },
     "execution_count": 75,
     "metadata": {},
     "output_type": "execute_result"
    }
   ],
   "source": [
    "r = scipy.stats.laplace.rvs(size=1000) # Generate 1000 random numbers based on the laplace distribution\n",
    "r"
   ]
  },
  {
   "cell_type": "markdown",
   "metadata": {},
   "source": [
    "## `scipy.integrate`"
   ]
  },
  {
   "cell_type": "code",
   "execution_count": 109,
   "metadata": {
    "collapsed": false
   },
   "outputs": [],
   "source": [
    "import scipy.integrate\n",
    "\n",
    "sigma=10.0\n",
    "beta=8.0/3.0\n",
    "rho=28.0\n",
    "\n",
    "def lorenz(state, to):\n",
    "    x, y, z = state\n",
    "    xdot = sigma*(y-x)\n",
    "    ydot = x*(rho-z)-y\n",
    "    zdot = x*y - beta*z\n",
    "    return (xdot, ydot, zdot)\n",
    "    \n",
    "t = np.linspace(0, 30, 3000)\n",
    "sol = scipy.integrate.odeint(lorenz, (1., 2., 3.), t)\n",
    "x, y, z = sol.T"
   ]
  },
  {
   "cell_type": "code",
   "execution_count": 114,
   "metadata": {
    "collapsed": false
   },
   "outputs": [
    {
     "data": {
      "text/plain": [
       "[<matplotlib.lines.Line2D at 0x10e86ab10>]"
      ]
     },
     "execution_count": 114,
     "metadata": {},
     "output_type": "execute_result"
    },
    {
     "data": {
      "image/png": "[encoded data removed]",
      "text/plain": [
       "<matplotlib.figure.Figure at 0x10df935d0>"
      ]
     },
     "metadata": {},
     "output_type": "display_data"
    }
   ],
   "source": [
    "import matplotlib.pyplot as plt\n",
    "% matplotlib inline\n",
    "\n",
    "fig = plt.figure(figsize=(10, 10))\n",
    "ax = fig.add_subplot(111)\n",
    "ax.plot(x, y)"
   ]
  },
  {
   "cell_type": "code",
   "execution_count": null,
   "metadata": {
    "collapsed": true
   },
   "outputs": [],
   "source": []
  }
 ],
 "metadata": {
  "kernelspec": {
   "display_name": "Python 3",
   "language": "python",
   "name": "python3"
  },
  "language_info": {
   "codemirror_mode": {
    "name": "ipython",
    "version": 3
   },
   "file_extension": ".py",
   "mimetype": "text/x-python",
   "name": "python",
   "nbconvert_exporter": "python",
   "pygments_lexer": "ipython3",
   "version": "3.5.1"
  }
 },
 "nbformat": 4,
 "nbformat_minor": 0
}
