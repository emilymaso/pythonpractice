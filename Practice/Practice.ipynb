{
 "cells": [
  {
   "cell_type": "code",
   "execution_count": 29,
   "metadata": {
    "collapsed": false
   },
   "outputs": [
    {
     "name": "stdout",
     "output_type": "stream",
     "text": [
      "[1, 'one']\n",
      "[2, 'two']\n",
      "[3, 'three']\n",
      "[5, 'four']\n"
     ]
    }
   ],
   "source": [
    "f=open('practice.txt')\n",
    "z=open('practice2.txt','w')\n",
    "count=0\n",
    "for line in f.readlines():\n",
    "    count+=1\n",
    "    y=line.split()\n",
    "    if not y:\n",
    "        z.write('\\n')\n",
    "        continue\n",
    "    y=list(y)\n",
    "    y.insert(0,count)\n",
    "    print(y)\n",
    "    z.write('{0[0]} {0[1]}\\n'.format(y))\n",
    "z.close()\n",
    "f.close()"
   ]
  },
  {
   "cell_type": "code",
   "execution_count": 51,
   "metadata": {
    "collapsed": false
   },
   "outputs": [
    {
     "name": "stdout",
     "output_type": "stream",
     "text": [
      "[1, 'one two three']\n",
      "[2, 'two three four']\n",
      "[3, 'three four five']\n",
      "[4, 'four five six']\n",
      "[6, 'five six seven']\n"
     ]
    }
   ],
   "source": [
    "f=open('this.txt')\n",
    "z=open('that.txt','w')\n",
    "count=0\n",
    "for line in f.readlines():\n",
    "    count+=1\n",
    "    l=line.split()\n",
    "    if not l:\n",
    "        z.write('\\n')\n",
    "        continue\n",
    "    y=[count,line.strip()]\n",
    "    print(y)\n",
    "    z.write('{0[0]} {0[1]}\\n'.format(y))\n",
    "z.close()\n",
    "f.close()"
   ]
  },
  {
   "cell_type": "code",
   "execution_count": null,
   "metadata": {
    "collapsed": true
   },
   "outputs": [],
   "source": []
  }
 ],
 "metadata": {
  "kernelspec": {
   "display_name": "Python 3",
   "language": "python",
   "name": "python3"
  },
  "language_info": {
   "codemirror_mode": {
    "name": "ipython",
    "version": 3
   },
   "file_extension": ".py",
   "mimetype": "text/x-python",
   "name": "python",
   "nbconvert_exporter": "python",
   "pygments_lexer": "ipython3",
   "version": "3.5.1"
  }
 },
 "nbformat": 4,
 "nbformat_minor": 0
}
