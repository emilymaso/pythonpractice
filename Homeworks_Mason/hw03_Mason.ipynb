{
 "cells": [
  {
   "cell_type": "markdown",
   "metadata": {},
   "source": [
    "# Homework 03\n",
    "\n",
    "## Due Tuesday, February 16th"
   ]
  },
  {
   "cell_type": "code",
   "execution_count": 2,
   "metadata": {
    "collapsed": true
   },
   "outputs": [],
   "source": [
    "import numpy as np"
   ]
  },
  {
   "cell_type": "markdown",
   "metadata": {},
   "source": [
    "### 1. Vector manipulation\n",
    "\n",
    "Create a vector of zeros of size 10 but have the fifth value be 1."
   ]
  },
  {
   "cell_type": "code",
   "execution_count": 15,
   "metadata": {
    "collapsed": false
   },
   "outputs": [
    {
     "name": "stdout",
     "output_type": "stream",
     "text": [
      "[ 0.  0.  0.  0.  1.  0.  0.  0.  0.  0.]\n",
      "[ 0.  0.  0.  0.  1.  0.  0.  0.  0.  0.]\n"
     ]
    }
   ],
   "source": [
    "x = np.array([0,0,0,0,1.0,0,0,0,0,0])\n",
    "print(x)\n",
    "\n",
    "x = np.zeros(shape = (10))\n",
    "x[4] = 1.0\n",
    "print(x)"
   ]
  },
  {
   "cell_type": "markdown",
   "metadata": {},
   "source": [
    "### 2. Vector range\n",
    "\n",
    "Create a vector with values ranging from 10 to 49, inclusive."
   ]
  },
  {
   "cell_type": "code",
   "execution_count": 25,
   "metadata": {
    "collapsed": false
   },
   "outputs": [
    {
     "name": "stdout",
     "output_type": "stream",
     "text": [
      "[ 10.  11.  12.  13.  14.  15.  16.  17.  18.  19.  20.  21.  22.  23.  24.\n",
      "  25.  26.  27.  28.  29.  30.  31.  32.  33.  34.  35.  36.  37.  38.  39.\n",
      "  40.  41.  42.  43.  44.  45.  46.  47.  48.  49.]\n",
      "The shape is:                 (40,)\n",
      "The number of dimensions is:  1\n",
      "[ 10.  11.  12.  13.  14.  15.  16.  17.  18.  19.  20.  21.  22.  23.  24.\n",
      "  25.  26.  27.  28.  29.  30.  31.  32.  33.  34.  35.  36.  37.  38.  39.\n",
      "  40.  41.  42.  43.  44.  45.  46.  47.  48.  49.]\n",
      "The shape is:                 (40,)\n",
      "The number of dimensions is:  1\n"
     ]
    }
   ],
   "source": [
    "x = np.arange(10.0,50)\n",
    "print(x)\n",
    "print('The shape is:                ',x.shape)\n",
    "print('The number of dimensions is: ',x.ndim)\n",
    "\n",
    "x=np.linspace(10,49,40)\n",
    "print(x)\n",
    "print('The shape is:                ',x.shape)\n",
    "print('The number of dimensions is: ',x.ndim)"
   ]
  },
  {
   "cell_type": "markdown",
   "metadata": {},
   "source": [
    "### 3. Reverse a vector\n",
    "\n",
    "Write a function, `reverse(x)` which reverses a vector, so that the first element becomes the last element. The API should be\n",
    "\n",
    "    return a 1D vector with the elements reversed\n",
    "    \n",
    "    Input\n",
    "    -----\n",
    "        x: 1D array\n",
    "    \n",
    "    Output\n",
    "    ------\n",
    "        res: 1D array, with the elements of `x` reversed\n",
    "\n",
    "Include this (or an equivalent description) in the function's docstring."
   ]
  },
  {
   "cell_type": "code",
   "execution_count": null,
   "metadata": {
    "collapsed": true
   },
   "outputs": [],
   "source": []
  },
  {
   "cell_type": "markdown",
   "metadata": {},
   "source": [
    "### 4. Find indices of non-zero elements\n",
    "\n",
    "Write a function `find_nonzero(x)` that finds the indices of non-zero elements, with an API like\n",
    "\n",
    "    return the indices of non-zero elements of an array.\n",
    "\n",
    "    Input:      x:  array\n",
    "    Output:     indices: array of integer indices\n",
    "\n",
    "Use the function to get out the non-zero elements from an array containing the elements [1,2,0,0,4,0]."
   ]
  },
  {
   "cell_type": "markdown",
   "metadata": {},
   "source": [
    "### 5. Array with random values\n",
    "\n",
    "Create a 3x3x3 array with normally distributed ($\\mu =0, \\sigma=1)$ random values."
   ]
  },
  {
   "cell_type": "markdown",
   "metadata": {},
   "source": [
    "### 6. Operations on an array with random values\n",
    "\n",
    "Create a 10x10 array with random values. Find \n",
    "- the minimum value of the 2nd row\n",
    "- the maximum value of the 4th column"
   ]
  },
  {
   "cell_type": "markdown",
   "metadata": {},
   "source": [
    "### 7. Vector without end points\n",
    "\n",
    "Create a vector of size 10 with values ranging from 0 to 1, both excluded."
   ]
  },
  {
   "cell_type": "markdown",
   "metadata": {},
   "source": [
    "### 8. Sorted random vector\n",
    "\n",
    "Create a random vector of size 10, then sort it."
   ]
  },
  {
   "cell_type": "markdown",
   "metadata": {},
   "source": [
    "### 9. Test for array equality\n",
    "\n",
    "Write a function `is_equal(A, B)` that compare two arrays `A` and `B` and checks to see if they are equal. \n",
    "\n",
    "    return True if two arrays are the same shape and all the elements are equal.\n",
    "    \n",
    "    Inputs:\n",
    "        A, B:  array\n",
    "    Output:\n",
    "        Bool:  True if A and B have the same shape and identical elements.\n",
    "\n",
    "The arrays count as equal if they are the same shape and all elements in the array are equal."
   ]
  },
  {
   "cell_type": "markdown",
   "metadata": {},
   "source": [
    "### 10. Subtract the row mean from rows of a matrix\n",
    "\n",
    "Create a matrix. Then subtract the mean of each row of the matrix from the respective row. Do this without using a loop (that is, using array operations)."
   ]
  },
  {
   "cell_type": "markdown",
   "metadata": {},
   "source": [
    "### 11. Multiply arrays\n",
    "\n",
    "Multiply an array of dimension (5,5,3) with an array with dimensions (5,5). Then multiply an array of dimension (3,5,5) with an array of dimension (5,5)."
   ]
  },
  {
   "cell_type": "markdown",
   "metadata": {},
   "source": [
    "### 12. Creating a new array\n",
    "\n",
    "Starting with an array\n",
    "\n",
    "    Z = [1,2,3,4,5,6,7,8,9,10,11,12,13,14].\n",
    "    \n",
    "Generate an array \n",
    "\n",
    "    R = [[1,2,3,4], [2,3,4,5], [3,4,5,6], ..., [11,12,13,14]]. "
   ]
  },
  {
   "cell_type": "markdown",
   "metadata": {},
   "source": [
    "### 13. Convert from Cartesian to polar coordinates\n",
    "\n",
    "Write a function `cart2polar(xy)` which takes in an Nx2 matrix of `x, y` pairs representing Cartesian coordinates and return the locations represented in polar coordinates in the same shape matrix. The API is\n",
    "\n",
    "    Return equivalent polar coordinates of specified cartesian points.\n",
    "    \n",
    "    Inputs:\n",
    "        xy: array\n",
    "             Nx2 array of Cartesian coordinates, with columns x and y respectively.\n",
    "\n",
    "    Returns:\n",
    "        rp: array\n",
    "            Nx2 array of polar coordinates, with columns radius and angle respectively\n"
   ]
  },
  {
   "cell_type": "markdown",
   "metadata": {},
   "source": [
    "### 14. Compute and time for loops and array operations.\n",
    "\n",
    "Calculate the time it takes to do what we did in class\n",
    "\n",
    "    a = np.arange(1024.0).reshape(4, 8, 16, 2)   # a 4D array using sequential numbers\n",
    "    b = np.random.rand(4, 8, 16, 2)              # a 4D array using random numbers\n",
    "    sol = a * b  # element-by-element multiplication. This operation is about as fast as it can be on your computer.\n",
    "\n",
    "and the time required for doing the same operation with a series of 4 `for` loops, one for each dimension of the arrays. Compare the times by calculating a ratio."
   ]
  },
  {
   "cell_type": "markdown",
   "metadata": {},
   "source": [
    "### 15. Fix the code\n",
    "\n",
    "This code needs to be fixed so that it can run properly and pass the assertion test at the bottom. Write out what you changed to make it work and why it needed to be changed."
   ]
  },
  {
   "cell_type": "code",
   "execution_count": null,
   "metadata": {
    "collapsed": false
   },
   "outputs": [],
   "source": [
    "def calculate(a, b):\n",
    "    \"\"\"Do some calculations\n",
    "    \n",
    "    Take in two arrays, subtract 1/4 of the [:2,:] elements from the elements themselves.\n",
    "    Then multiply with array b and return the result.\n",
    "    \n",
    "    Inputs:\n",
    "        a: input array, shape [MxN]\n",
    "        b: input array, shape [M]\n",
    "    \n",
    "    Returns:\n",
    "        resultant array\n",
    "    \"\"\"\n",
    "\n",
    "    aa = a[:2, :]\n",
    "    aa /= 4.\n",
    "    a[:2, :] -= aa\n",
    "\n",
    "    return a*b\n",
    "    \n",
    "\n",
    "a = np.ones((3, 2))\n",
    "b = np.ones(3)*3\n",
    "res = calculate(a, b)\n",
    "\n",
    "assert (res == np.array([[ 2.25,  2.25],[ 2.25,  2.25],[ 3., 3.]])).all()"
   ]
  },
  {
   "cell_type": "markdown",
   "metadata": {},
   "source": [
    "### 16. Calculate components of a vector\n",
    "\n",
    "Read in file `data/burl1h2010.txt`. This file gives a bunch of data from a wind station. In particular, read in the wind direction, `WDIR`, and wind speed, `WSPD`. Then, write a function that calculates and returns the `u` and `v` components of this wind vector, which point along the x- and y-axes.\n",
    "\n",
    "The function should have the following basic functionality:\n",
    "\n",
    "    Take in vector and return components.\n",
    "    \n",
    "    Inputs:\n",
    "        vdir: vector direction in degrees\n",
    "        vspd: vector magnitude\n",
    "        \n",
    "    Returns:\n",
    "        u: x component of vector\n",
    "        v: y component of vector\n"
   ]
  },
  {
   "cell_type": "markdown",
   "metadata": {},
   "source": [
    "### 17. (Grad) Write and use a class\n",
    "\n",
    "Consider one of the data files located in `python4geosciences/data/MCH/`. Write a class, `dataclass`, to store some of the information in the file. The class should:\n",
    "\n",
    "* be initialized with the name of the file (without file type suffix of .cnv2), and the temperature and salinity values found in the file;\n",
    "* contain a method, `salt_mean`, which returns the mean of the salinity;\n",
    "* contain a method, `temp_max`, which returns the maximum value of the temperature values.\n",
    "\n",
    "Notice that there are many data files in this directory. It would be a lot of work to read them all in by hand. Instead, write a loop which loops through the file names, reads in the necessary data, calls `dataclass` to store the data in a class instance, and adds it to a list of all of the class instances. At the end of your solution, you should have a list of all of the class instances, one for each data file.\n",
    "\n",
    "Hint: Check out the package `glob` for reading in file names with a wild card. "
   ]
  },
  {
   "cell_type": "markdown",
   "metadata": {},
   "source": [
    "### 18. (Grad) Running mean\n",
    "\n",
    "Write a function that computes averages using a sliding window over a vector; that is, it should take in a vector and for every element in the vector, compute the average of that point with the N points on either side of the element. N should also be an input parameter, and the function should return the original vector if N=0. The returned vector should be the same size as the input vector.\n",
    "\n",
    "Do not use the `pandas` package or the function `convolve`; instead, use a loop. Use the following API for your function:\n",
    "\n",
    "    Return the running average of a vector, with averaging window of size N.\n",
    "    \n",
    "    Inputs:\n",
    "        vec: Input vector\n",
    "        N (int): Averaging window size, or number of elements to include in mean on either side of each element.\n",
    "    \n",
    "    Outputs:\n",
    "        out: Vector of running-averaged values; same size as vec\n"
   ]
  }
 ],
 "metadata": {
  "kernelspec": {
   "display_name": "Python 3",
   "language": "python",
   "name": "python3"
  },
  "language_info": {
   "codemirror_mode": {
    "name": "ipython",
    "version": 3
   },
   "file_extension": ".py",
   "mimetype": "text/x-python",
   "name": "python",
   "nbconvert_exporter": "python",
   "pygments_lexer": "ipython3",
   "version": "3.5.1"
  }
 },
 "nbformat": 4,
 "nbformat_minor": 0
}
