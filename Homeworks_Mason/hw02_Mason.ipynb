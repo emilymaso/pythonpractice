{
 "cells": [
  {
   "cell_type": "markdown",
   "metadata": {},
   "source": [
    "# Homework 02\n",
    "## Thursday, February 4nd\n",
    "### Emily Mason"
   ]
  },
  {
   "cell_type": "markdown",
   "metadata": {},
   "source": [
    "# 1. Make a dictionary\n",
    "\n",
    "Make a dictionary, d, whose keys and values are your name, hometown, department, student status (undergrad/grad), years at TAMU, and explanation of why you are taking this class."
   ]
  },
  {
   "cell_type": "code",
   "execution_count": 5,
   "metadata": {
    "collapsed": false
   },
   "outputs": [],
   "source": [
    "d = {'name':'Emily','hometown':'Lubbock','department':'ATMO','status':'G8','years at TAMU':'4.5','why python?':'I am behind the times. Most researchers I know outside the university use it now'}"
   ]
  },
  {
   "cell_type": "markdown",
   "metadata": {},
   "source": [
    "# 2. Test for vowels\n",
    "\n",
    "Write a function that takes a character (i.e. a string of length 1) and returns True if it is a vowel, False otherwise. For example,\n",
    "    >>> isVowel(\"a\")\n",
    "    True\n",
    "    >>> isVowel(\"b\")\n",
    "    False\n",
    "\n",
    "You can compare the input character with a known list of vowels. Don't forget about case!"
   ]
  },
  {
   "cell_type": "code",
   "execution_count": 23,
   "metadata": {
    "collapsed": false
   },
   "outputs": [
    {
     "name": "stdout",
     "output_type": "stream",
     "text": [
      "True\n",
      "True\n",
      "False\n",
      "Sometimes\n"
     ]
    },
    {
     "data": {
      "text/plain": [
       "'Sometimes'"
      ]
     },
     "execution_count": 23,
     "metadata": {},
     "output_type": "execute_result"
    }
   ],
   "source": [
    "def isVowel(letter):\n",
    "    '''Returns true or false if letter is a vowel (excepting y)'''\n",
    "    letter=letter.capitalize()\n",
    "    vowels = ['A','E','I','O','U','Y']\n",
    "    if letter in vowels:\n",
    "        if letter == 'Y':\n",
    "            l='Sometimes'\n",
    "        else:\n",
    "            l='True'\n",
    "    else: l='False'\n",
    "    print(l)\n",
    "    return l\n",
    "isVowel('a')\n",
    "isVowel('A')\n",
    "isVowel('b')\n",
    "isVowel('y')"
   ]
  },
  {
   "cell_type": "markdown",
   "metadata": {},
   "source": [
    "# 3. Compute the length of a given list or string.\n",
    "\n",
    "Define a function that computes the length of a given list or string. (It is true that Python has the len() function built in, but do not use it for your solution — use a loop instead.)\n",
    "\n",
    "For example:\n",
    "    >>> length(['string1', 'string2'])\n",
    "    2\n",
    "    >>> length('string1')\n",
    "    7"
   ]
  },
  {
   "cell_type": "code",
   "execution_count": 24,
   "metadata": {
    "collapsed": false
   },
   "outputs": [
    {
     "name": "stdout",
     "output_type": "stream",
     "text": [
      "The len() function returns       :  13\n",
      "The loop function I wrote returns:  13\n"
     ]
    },
    {
     "data": {
      "text/plain": [
       "13"
      ]
     },
     "execution_count": 24,
     "metadata": {},
     "output_type": "execute_result"
    }
   ],
   "source": [
    "def lengthOfString(word):\n",
    "    '''Computes the length of a given string using a loop'''\n",
    "    count=0\n",
    "    for w in word:\n",
    "        count+=1\n",
    "    print('The len() function returns       : ',len(word))\n",
    "    print('The loop function I wrote returns: ',count)\n",
    "    return count\n",
    "lengthOfString('Fox and Hound')"
   ]
  },
  {
   "cell_type": "markdown",
   "metadata": {},
   "source": [
    "# 4. Reverse a string\n",
    "\n",
    "Define a function reverse() that computes the reversal of a string. For example, \n",
    "    >>> reverse(\"I am testing\")\n",
    "    \"gnitset ma I\""
   ]
  },
  {
   "cell_type": "code",
   "execution_count": 33,
   "metadata": {
    "collapsed": false
   },
   "outputs": [
    {
     "name": "stdout",
     "output_type": "stream",
     "text": [
      "gnitset ma I\n",
      "gnitset ton ma I\n",
      "gnitset MA I ,ko\n",
      "[9, 7, 5]\n"
     ]
    },
    {
     "data": {
      "text/plain": [
       "[9, 7, 5]"
      ]
     },
     "execution_count": 33,
     "metadata": {},
     "output_type": "execute_result"
    }
   ],
   "source": [
    "def reverse(x):\n",
    "    '''Reverses input variable, x'''\n",
    "    print(x[::-1])\n",
    "    return x[::-1]\n",
    "\n",
    "reverse('I am testing')\n",
    "reverse('I am not testing')\n",
    "reverse('ok, I AM testing')\n",
    "reverse([5,7,9])"
   ]
  },
  {
   "cell_type": "markdown",
   "metadata": {},
   "source": [
    "# 5. Check for palindromes\n",
    "\n",
    "Define a function is_palindrome() that recognizes palindromes (i.e. words and phrases that look the same written forwards and backwards). Make sure that case and spaces are ignored in your function; for example,\n",
    "    >>> is_palindrome(\"Never odd or even\")\n",
    "    True\n",
    "\n",
    "You can use your solution to #4 for solving this problem."
   ]
  },
  {
   "cell_type": "code",
   "execution_count": 54,
   "metadata": {
    "collapsed": false
   },
   "outputs": [
    {
     "name": "stdout",
     "output_type": "stream",
     "text": [
      "True\n",
      "True\n",
      "False\n"
     ]
    }
   ],
   "source": [
    "def is_palindrome(x):\n",
    "    '''Recognizes palindromes''' \n",
    "    x = ''.join(x.split())\n",
    "    x=''.join([i.capitalize() for i in x])\n",
    "    x2 = x[::-1]\n",
    "    if x2 == x: print('True')\n",
    "    else: print('False')\n",
    "    \n",
    "is_palindrome('Never odd or even')\n",
    "is_palindrome('Racecar')\n",
    "is_palindrome('Face')"
   ]
  },
  {
   "cell_type": "markdown",
   "metadata": {},
   "source": [
    "# 6. Number lines in a text file\n",
    "\n",
    "Write a script (i.e., just code, no need to write a function) that numbers all of the lines in a text file, skipping empty lines, and writes the output to another specified file. The output file might look something like\n",
    "\n",
    "    1    This is the first line\n",
    "    2    This is the second line\n",
    "    \n",
    "    3    This is the fourth line\n",
    "\n",
    "where the third line is empty, and not counted."
   ]
  },
  {
   "cell_type": "code",
   "execution_count": 94,
   "metadata": {
    "collapsed": false
   },
   "outputs": [
    {
     "name": "stdout",
     "output_type": "stream",
     "text": [
      "one two three\n",
      "\n",
      "two three four\n",
      "\n",
      "three four five\n",
      "\n",
      "four five six\n",
      "\n",
      "\n",
      "\n",
      "five six seven\n",
      "\n"
     ]
    }
   ],
   "source": [
    "f = open('this.txt')\n",
    "z = open('that.txt','w')\n",
    "count=1\n",
    "for line in f.readlines():\n",
    "    l=line.split()\n",
    "    if not l:\n",
    "        z.write(line)\n",
    "        print(line)\n",
    "    else:     \n",
    "        z.write('{} {}'.format(count,line))\n",
    "        count+=1\n",
    "        print(line)\n",
    "f.close()\n",
    "z.close()"
   ]
  },
  {
   "cell_type": "markdown",
   "metadata": {},
   "source": [
    "# 7. Convert list of words into list of integers of length of words\n",
    "\n",
    "Write a series of functions that maps a list of words into a list of integers representing the lengths of the correponding words. Write them in three different ways: \n",
    "\n",
    "1. using a for-loop\n",
    "\n",
    "2. using the higher order function map(), and \n",
    "\n",
    "3. using list comprehensions. \n",
    "\n",
    "Do not use the len() function.\n",
    "\n",
    "For example,\n",
    "\n",
    "    >>> method1(['list', 'of', 'words'])\n",
    "    [4, 2, 5]"
   ]
  },
  {
   "cell_type": "code",
   "execution_count": 109,
   "metadata": {
    "collapsed": false
   },
   "outputs": [
    {
     "name": "stdout",
     "output_type": "stream",
     "text": [
      "[4, 2, 5]\n"
     ]
    }
   ],
   "source": [
    "def lengthOfString(word):\n",
    "    '''Computes the length of a given string using a loop'''\n",
    "    count=0\n",
    "    for w in word:\n",
    "        count+=1\n",
    "    return count\n",
    "\n",
    "def loopMethod(words):\n",
    "    '''Returns a list of integers for a given list of words'''\n",
    "    l=[]\n",
    "    for word in words.split():\n",
    "        l.append(lengthOfString(word))\n",
    "    print(l)   \n",
    "\n",
    "loopMethod('List of words')"
   ]
  },
  {
   "cell_type": "code",
   "execution_count": 110,
   "metadata": {
    "collapsed": false
   },
   "outputs": [
    {
     "data": {
      "text/plain": [
       "[4, 2, 5]"
      ]
     },
     "execution_count": 110,
     "metadata": {},
     "output_type": "execute_result"
    }
   ],
   "source": [
    "def mM(word):\n",
    "    '''The mapping function which calls the loopy length function above'''\n",
    "    return lengthOfString(word)\n",
    "\n",
    "def mapMethod(words):\n",
    "    '''The overhead function that gets list of words ready for counting'''\n",
    "    l=words.split()\n",
    "    l=list(map(mM,l))\n",
    "    return l\n",
    "\n",
    "mapMethod('List of words')"
   ]
  },
  {
   "cell_type": "code",
   "execution_count": 116,
   "metadata": {
    "collapsed": false
   },
   "outputs": [
    {
     "data": {
      "text/plain": [
       "[4, 2, 5]"
      ]
     },
     "execution_count": 116,
     "metadata": {},
     "output_type": "execute_result"
    }
   ],
   "source": [
    "def compMethod(words):\n",
    "    '''The simple way'''\n",
    "    l=[lengthOfString(word) for word in words.split()]\n",
    "    return l\n",
    "\n",
    "compMethod('Long list of words')\n",
    "compMethod('List of words')"
   ]
  },
  {
   "cell_type": "markdown",
   "metadata": {},
   "source": [
    "# 8. Encode and decode using ROT-13\n",
    "\n",
    "In cryptography, a Caesar cipher is a very simple encryption techniques in which each letter in the plain text is replaced by a letter some fixed number of positions down the alphabet. For example, with a shift of 3, A would be replaced by D, B would become E, and so on. The method is named after Julius Caesar, who used it to communicate with his generals. ROT-13 (\"rotate by 13 places\") is a widely used example of a Caesar cipher where the shift is 13. In Python, the key for ROT-13 may be represented by means of the following dictionary:\n",
    "\n",
    "    key = {'a':'n', 'b':'o', 'c':'p', 'd':'q', 'e':'r', 'f':'s', 'g':'t', 'h':'u', \n",
    "           'i':'v', 'j':'w', 'k':'x', 'l':'y', 'm':'z', 'n':'a', 'o':'b', 'p':'c', \n",
    "           'q':'d', 'r':'e', 's':'f', 't':'g', 'u':'h', 'v':'i', 'w':'j', 'x':'k',\n",
    "           'y':'l', 'z':'m', 'A':'N', 'B':'O', 'C':'P', 'D':'Q', 'E':'R', 'F':'S', \n",
    "           'G':'T', 'H':'U', 'I':'V', 'J':'W', 'K':'X', 'L':'Y', 'M':'Z', 'N':'A', \n",
    "           'O':'B', 'P':'C', 'Q':'D', 'R':'E', 'S':'F', 'T':'G', 'U':'H', 'V':'I', \n",
    "           'W':'J', 'X':'K', 'Y':'L', 'Z':'M'}\n",
    "\n",
    "Your task in this exercise is to implement an encoder/decoder of ROT-13. Once you're done, you will be able to read the following secret message:\n",
    "\n",
    "       Pnrfne pvcure? V zhpu cersre Pnrfne fnynq!\n",
    "\n",
    "Note that since English has 26 characters, your ROT-13 program will be able to both encode and decode texts written in English."
   ]
  },
  {
   "cell_type": "code",
   "execution_count": 133,
   "metadata": {
    "collapsed": false
   },
   "outputs": [
    {
     "name": "stdout",
     "output_type": "stream",
     "text": [
      "Caesar cipher? I much prefer Caesar salad!\n",
      "Pnrfne pvcure? V zhpu cersre Pnrfne fnynq!\n"
     ]
    },
    {
     "data": {
      "text/plain": [
       "'Pnrfne pvcure? V zhpu cersre Pnrfne fnynq!'"
      ]
     },
     "execution_count": 133,
     "metadata": {},
     "output_type": "execute_result"
    }
   ],
   "source": [
    "def encoderORdecoder(x):\n",
    "    '''Encodes and decodes based on ROT-13 cipher only'''\n",
    "    key = {'a':'n', 'b':'o', 'c':'p', 'd':'q', 'e':'r', 'f':'s', 'g':'t', 'h':'u', \n",
    "       'i':'v', 'j':'w', 'k':'x', 'l':'y', 'm':'z', 'n':'a', 'o':'b', 'p':'c', \n",
    "       'q':'d', 'r':'e', 's':'f', 't':'g', 'u':'h', 'v':'i', 'w':'j', 'x':'k',\n",
    "       'y':'l', 'z':'m', 'A':'N', 'B':'O', 'C':'P', 'D':'Q', 'E':'R', 'F':'S', \n",
    "       'G':'T', 'H':'U', 'I':'V', 'J':'W', 'K':'X', 'L':'Y', 'M':'Z', 'N':'A', \n",
    "       'O':'B', 'P':'C', 'Q':'D', 'R':'E', 'S':'F', 'T':'G', 'U':'H', 'V':'I', \n",
    "       'W':'J', 'X':'K', 'Y':'L', 'Z':'M'}\n",
    "    punct=['!','?']\n",
    "    code=[]\n",
    "    for k in x.split():\n",
    "        l=[]\n",
    "        for j in k:\n",
    "            if j in punct:\n",
    "                l.append(j)\n",
    "            else:\n",
    "                l.append(key[j])\n",
    "        f=''.join(l)\n",
    "        code.append(f)\n",
    "    out=' '.join(code)\n",
    "    print(out)\n",
    "    return out\n",
    "encoderORdecoder('Pnrfne pvcure? V zhpu cersre Pnrfne fnynq!')\n",
    "encoderORdecoder('Caesar cipher? I much prefer Caesar salad!')        "
   ]
  },
  {
   "cell_type": "markdown",
   "metadata": {},
   "source": [
    "# 9. Fix the code\n",
    "\n",
    "\"99 Bottles of Beer\" is a traditional song in the United States and Canada. It is popular to sing on long trips, as it has a very repetitive format which is easy to memorize, and can take a long time to sing. The song's simple lyrics are as follows:\n",
    "\n",
    "99 bottles of beer on the wall, 99 bottles of beer.\n",
    "Take one down, pass it around, 98 bottles of beer on the wall.\n",
    "\n",
    "The same verse is repeated, each time with one fewer bottle. The song is completed when the singer or singers reach zero.\n",
    "\n",
    "Code to generate all verses of this song has already been written and is provided below. However, it has several problems in it that prevent it from running properly. Your task is to fix the code, keeping a list of what you change, so that the code generates 3 verses of the song."
   ]
  },
  {
   "cell_type": "code",
   "execution_count": 1,
   "metadata": {
    "collapsed": false
   },
   "outputs": [
    {
     "name": "stdout",
     "output_type": "stream",
     "text": [
      "3 bottles of beer on the wall, 3 bottles of beer.\n",
      "Take one down, pass it around, 2 bottles of beer on the wall.\n",
      "\n",
      "2 bottles of beer on the wall, 2 bottles of beer.\n",
      "Take one down, pass it around, 1 bottles of beer on the wall.\n",
      "\n",
      "1 bottle of beer on the wall, 1 bottle of beer.\n",
      "Take one down, pass it around, 0 bottles of beer on the wall.\n",
      "\n"
     ]
    }
   ],
   "source": [
    "def words(num):\n",
    "    \"\"\"Returns words with proper number of beer bottles filled in.\"\"\"\n",
    "    \n",
    "    if num != 1:\n",
    "        # I put in two different ways to deal with multiple lines.. for practice\n",
    "        f =  (str(num)+' bottles of beer on the wall, '+ str(num)+' bottles of beer.\\n'+\n",
    "        'Take one down, pass it around, ' + str(num-1) + ' bottles of beer on the wall.\\n')\n",
    "        return f\n",
    "    elif num == 1:\n",
    "        return str(num) + ' bottle of beer on the wall, ' + str(num) + ' bottle of beer.\\n' +\\\n",
    "        'Take one down, pass it around, ' + str(num-1) + ' bottles of beer on the wall.\\n'\n",
    "numbottles = 3       \n",
    "for i in range(numbottles, 0, -1):\n",
    "    print(words(i))\n"
   ]
  },
  {
   "cell_type": "markdown",
   "metadata": {},
   "source": [
    "# 10. Reading in and parsing a file\n",
    "\n",
    "Read in `data/GPS.dat`, a file containing GPS track information. This file is tab-delimited, but contains other characters as well. It has data from several drifters, whose names are listed in the file after the TRACK label; the first is named \"ACTIVE LOG\". \n",
    "\n",
    "Read in the date and time information from the file for the drifter ACTIVE LOG, and form a list of datetime objects with this information, where each line in the file is a data point that should have its own datetime object.\n",
    "\n",
    "*_Grad students:_* Separately, read in the locations and speed at all data points for each drifter. Create a dictionary with the name of each track as a key. The value of the dictionary will be another dictionary that has keys `latitude`, `longitude`, and `speed`.  That is, `gps['GANDALF']['speed']` will return a list containing a timeseries of the speed of that track."
   ]
  },
  {
   "cell_type": "code",
   "execution_count": 64,
   "metadata": {
    "collapsed": false
   },
   "outputs": [
    {
     "name": "stdout",
     "output_type": "stream",
     "text": [
      "[5, 479, 507, 545, 553] ['ACTIVE', 'LEGOLAS', 'MERIADOC', 'SAMWISE', 'STRIDER']\n",
      "2006-05-20 13:34:55\n",
      "2006-05-20 13:35:10\n",
      "2006-05-20 13:35:25\n",
      "2006-05-20 13:35:40\n",
      "2006-05-20 13:35:55\n",
      "2006-05-20 13:36:10\n",
      "2006-05-20 13:36:25\n",
      "2006-05-20 13:36:40\n",
      "2006-05-20 13:36:55\n",
      "2006-05-20 13:37:10\n",
      "2006-05-20 13:37:25\n",
      "2006-05-20 13:37:40\n",
      "2006-05-20 13:37:55\n",
      "2006-05-20 13:38:10\n",
      "2006-05-20 13:38:25\n",
      "2006-05-20 13:38:40\n",
      "2006-05-20 13:38:55\n",
      "2006-05-20 13:39:10\n",
      "2006-05-20 13:39:25\n",
      "2006-05-20 13:39:40\n",
      "2006-05-20 13:39:55\n",
      "2006-05-20 13:40:10\n",
      "2006-05-20 13:40:25\n",
      "2006-05-20 13:40:40\n",
      "2006-05-20 13:40:55\n",
      "2006-05-20 13:41:10\n",
      "2006-05-20 13:41:25\n",
      "2006-05-20 13:41:40\n",
      "2006-05-20 13:41:55\n",
      "2006-05-20 13:42:10\n",
      "2006-05-20 13:42:25\n",
      "2006-05-20 13:42:40\n",
      "2006-05-20 13:42:55\n",
      "2006-05-20 13:43:10\n",
      "2006-05-20 13:43:25\n",
      "2006-05-20 13:43:40\n",
      "2006-05-20 13:43:55\n",
      "2006-05-20 13:44:10\n",
      "2006-05-20 13:44:25\n",
      "2006-05-20 13:44:40\n",
      "2006-05-20 13:44:55\n",
      "2006-05-20 13:45:10\n",
      "2006-05-20 13:45:25\n",
      "2006-05-20 13:45:40\n",
      "2006-05-20 13:45:55\n",
      "2006-05-20 13:46:10\n",
      "2006-05-20 13:46:25\n",
      "2006-05-20 13:46:40\n",
      "2006-05-20 13:46:55\n",
      "2006-05-20 13:47:10\n",
      "2006-05-20 13:47:25\n",
      "2006-05-20 13:47:40\n",
      "2006-05-20 13:47:55\n",
      "2006-05-20 13:48:10\n",
      "2006-05-20 13:48:25\n",
      "2006-05-20 13:48:40\n",
      "2006-05-20 13:48:55\n",
      "2006-05-20 13:49:10\n",
      "2006-05-20 13:49:25\n",
      "2006-05-20 13:49:40\n",
      "2006-05-20 13:49:56\n",
      "2006-05-20 13:50:11\n",
      "2006-05-20 13:50:26\n",
      "2006-05-20 13:50:42\n",
      "2006-05-20 13:50:57\n",
      "2006-05-20 13:51:12\n",
      "2006-05-20 13:51:27\n",
      "2006-05-20 13:51:42\n",
      "2006-05-20 13:51:57\n",
      "2006-05-20 13:52:12\n",
      "2006-05-20 13:52:27\n",
      "2006-05-20 13:52:42\n",
      "2006-05-20 13:52:57\n",
      "2006-05-20 13:53:12\n",
      "2006-05-20 13:53:27\n",
      "2006-05-20 13:53:42\n",
      "2006-05-20 13:53:57\n",
      "2006-05-20 13:54:12\n",
      "2006-05-20 13:54:27\n",
      "2006-05-20 13:54:42\n",
      "2006-05-20 13:54:57\n",
      "2006-05-20 13:55:12\n",
      "2006-05-20 13:55:27\n",
      "2006-05-20 13:55:42\n",
      "2006-05-20 13:55:57\n",
      "2006-05-20 13:56:12\n",
      "2006-05-20 13:56:27\n",
      "2006-05-20 13:56:42\n",
      "2006-05-20 13:56:57\n",
      "2006-05-20 13:57:12\n",
      "2006-05-20 13:57:27\n",
      "2006-05-20 13:57:42\n",
      "2006-05-20 13:57:57\n",
      "2006-05-20 13:58:12\n",
      "2006-05-20 13:58:27\n",
      "2006-05-20 13:58:42\n",
      "2006-05-20 13:58:57\n",
      "2006-05-20 13:59:12\n",
      "2006-05-20 13:59:27\n",
      "2006-05-20 13:59:42\n",
      "2006-05-20 13:59:57\n",
      "2006-05-20 14:00:12\n",
      "2006-05-20 14:00:27\n",
      "2006-05-20 14:00:42\n",
      "2006-05-20 14:00:57\n",
      "2006-05-20 14:01:12\n",
      "2006-05-20 14:01:27\n",
      "2006-05-20 14:01:42\n",
      "2006-05-20 14:01:57\n",
      "2006-05-20 14:02:12\n",
      "2006-05-20 14:02:27\n",
      "2006-05-20 14:02:42\n",
      "2006-05-20 14:02:57\n",
      "2006-05-20 14:03:12\n",
      "2006-05-20 14:03:27\n",
      "2006-05-20 14:03:42\n",
      "2006-05-20 14:03:57\n",
      "2006-05-20 14:04:12\n",
      "2006-05-20 14:04:27\n",
      "2006-05-20 14:04:42\n",
      "2006-05-20 14:04:57\n",
      "2006-05-20 14:05:12\n",
      "2006-05-20 14:05:27\n",
      "2006-05-20 14:05:42\n",
      "2006-05-20 14:05:57\n",
      "2006-05-20 14:06:12\n",
      "2006-05-20 14:06:27\n",
      "2006-05-20 14:06:42\n",
      "2006-05-20 14:06:57\n",
      "2006-05-20 14:07:12\n",
      "2006-05-20 14:07:27\n",
      "2006-05-20 14:07:42\n",
      "2006-05-20 14:07:57\n",
      "2006-05-20 14:08:12\n",
      "2006-05-20 14:08:27\n",
      "2006-05-20 14:08:42\n",
      "2006-05-20 14:08:57\n",
      "2006-05-20 14:09:12\n",
      "2006-05-20 14:09:27\n",
      "2006-05-20 14:09:42\n",
      "2006-05-20 14:09:57\n",
      "2006-05-20 14:10:12\n",
      "2006-05-20 14:10:27\n",
      "2006-05-20 14:10:42\n",
      "2006-05-20 14:10:57\n",
      "2006-05-20 14:11:12\n",
      "2006-05-20 14:11:27\n",
      "2006-05-20 14:11:42\n",
      "2006-05-20 14:11:57\n",
      "2006-05-20 14:12:12\n",
      "2006-05-20 14:12:27\n",
      "2006-05-20 14:12:42\n",
      "2006-05-20 14:12:57\n",
      "2006-05-20 14:13:12\n",
      "2006-05-20 14:13:27\n",
      "2006-05-20 14:13:42\n",
      "2006-05-20 14:13:57\n",
      "2006-05-20 14:14:12\n",
      "2006-05-20 14:14:27\n",
      "2006-05-20 14:14:42\n",
      "2006-05-20 14:14:57\n",
      "2006-05-20 14:15:12\n",
      "2006-05-20 14:15:27\n",
      "2006-05-20 14:15:42\n",
      "2006-05-20 14:15:57\n",
      "2006-05-20 14:16:12\n",
      "2006-05-20 14:16:27\n",
      "2006-05-20 14:16:42\n",
      "2006-05-20 14:16:57\n",
      "2006-05-20 14:17:12\n",
      "2006-05-20 14:17:27\n",
      "2006-05-20 14:17:42\n",
      "2006-05-20 14:17:57\n",
      "2006-05-20 14:18:12\n",
      "2006-05-20 14:18:27\n",
      "2006-05-20 14:18:42\n",
      "2006-05-20 14:18:57\n",
      "2006-05-20 14:19:12\n",
      "2006-05-20 14:19:27\n",
      "2006-05-20 14:19:42\n",
      "2006-05-20 14:19:57\n",
      "2006-05-20 14:20:12\n",
      "2006-05-20 14:20:27\n",
      "2006-05-20 14:20:42\n",
      "2006-05-20 14:20:57\n",
      "2006-05-20 14:21:12\n",
      "2006-05-20 14:21:27\n",
      "2006-05-20 14:21:42\n",
      "2006-05-20 14:21:57\n",
      "2006-05-20 14:22:12\n",
      "2006-05-20 14:22:27\n",
      "2006-05-20 14:22:42\n",
      "2006-05-20 14:22:57\n",
      "2006-05-20 14:23:13\n",
      "2006-05-20 14:23:28\n",
      "2006-05-20 14:23:43\n",
      "2006-05-20 14:23:58\n",
      "2006-05-20 14:24:13\n",
      "2006-05-20 14:24:28\n",
      "2006-05-20 14:24:43\n",
      "2006-05-20 14:24:58\n",
      "2006-05-20 14:25:13\n",
      "2006-05-20 14:25:28\n",
      "2006-05-20 14:25:43\n",
      "2006-05-20 14:25:58\n",
      "2006-05-20 14:26:13\n",
      "2006-05-20 14:26:28\n",
      "2006-05-20 14:26:43\n",
      "2006-05-20 14:26:58\n",
      "2006-05-20 14:27:13\n",
      "2006-05-20 14:27:28\n",
      "2006-05-20 14:27:43\n",
      "2006-05-20 14:27:58\n",
      "2006-05-20 14:28:13\n",
      "2006-05-20 14:28:28\n",
      "2006-05-20 14:28:43\n",
      "2006-05-20 14:28:58\n",
      "2006-05-20 14:29:13\n",
      "2006-05-20 14:29:28\n",
      "2006-05-20 14:29:43\n",
      "2006-05-20 14:29:58\n",
      "2006-05-20 14:30:13\n",
      "2006-05-20 14:30:28\n",
      "2006-05-20 14:30:43\n",
      "2006-05-20 14:30:58\n",
      "2006-05-20 14:31:13\n",
      "2006-05-20 14:31:28\n",
      "2006-05-20 14:31:43\n",
      "2006-05-20 14:31:58\n",
      "2006-05-20 14:32:13\n",
      "2006-05-20 14:32:28\n",
      "2006-05-20 14:32:43\n",
      "2006-05-20 14:32:58\n",
      "2006-05-20 14:33:13\n",
      "2006-05-20 14:33:28\n",
      "2006-05-20 14:33:43\n",
      "2006-05-20 14:33:58\n",
      "2006-05-20 14:34:13\n",
      "2006-05-20 14:34:28\n",
      "2006-05-20 14:34:43\n",
      "2006-05-20 14:34:58\n",
      "2006-05-20 14:35:13\n",
      "2006-05-20 14:35:28\n",
      "2006-05-20 14:35:43\n",
      "2006-05-20 14:35:58\n",
      "2006-05-20 14:36:13\n",
      "2006-05-20 14:36:28\n",
      "2006-05-20 14:36:43\n",
      "2006-05-20 14:36:58\n",
      "2006-05-20 14:37:13\n",
      "2006-05-20 14:37:28\n",
      "2006-05-20 14:37:43\n",
      "2006-05-20 14:37:58\n",
      "2006-05-20 14:38:13\n",
      "2006-05-20 14:38:28\n",
      "2006-05-20 14:38:43\n",
      "2006-05-20 14:38:58\n",
      "2006-05-20 14:39:14\n",
      "2006-05-20 14:39:29\n",
      "2006-05-20 14:39:44\n",
      "2006-05-20 14:39:59\n",
      "2006-05-20 14:40:14\n",
      "2006-05-20 14:40:29\n",
      "2006-05-20 14:40:44\n",
      "2006-05-20 14:40:59\n",
      "2006-05-20 14:41:14\n",
      "2006-05-20 14:41:29\n",
      "2006-05-20 14:41:44\n",
      "2006-05-20 14:41:59\n",
      "2006-05-20 14:42:15\n",
      "2006-05-20 14:42:30\n",
      "2006-05-20 14:42:45\n",
      "2006-05-20 14:43:00\n",
      "2006-05-20 14:43:15\n",
      "2006-05-20 14:43:30\n",
      "2006-05-20 14:43:45\n",
      "2006-05-20 14:44:00\n",
      "2006-05-20 14:44:15\n",
      "2006-05-20 14:44:30\n",
      "2006-05-20 14:44:45\n",
      "2006-05-20 14:45:00\n",
      "2006-05-20 14:45:15\n",
      "2006-05-20 14:45:30\n",
      "2006-05-20 14:45:45\n",
      "2006-05-20 14:46:00\n",
      "2006-05-20 14:46:15\n",
      "2006-05-20 14:46:30\n",
      "2006-05-20 14:46:45\n",
      "2006-05-20 14:47:00\n",
      "2006-05-20 14:47:15\n",
      "2006-05-20 14:47:30\n",
      "2006-05-20 14:47:45\n",
      "2006-05-20 14:48:00\n",
      "2006-05-20 14:48:15\n",
      "2006-05-20 14:48:30\n",
      "2006-05-20 14:48:45\n",
      "2006-05-20 14:49:00\n",
      "2006-05-20 14:49:15\n",
      "2006-05-20 14:49:30\n",
      "2006-05-20 14:49:45\n",
      "2006-05-20 14:50:00\n",
      "2006-05-20 14:50:15\n",
      "2006-05-20 14:50:30\n",
      "2006-05-20 14:50:45\n",
      "2006-05-20 14:51:00\n",
      "2006-05-20 14:51:15\n",
      "2006-05-20 14:51:30\n",
      "2006-05-20 14:51:45\n",
      "2006-05-20 14:52:00\n",
      "2006-05-20 14:52:15\n",
      "2006-05-20 14:52:30\n",
      "2006-05-20 14:52:45\n",
      "2006-05-20 14:53:01\n",
      "2006-05-20 14:53:16\n",
      "2006-05-20 14:53:31\n",
      "2006-05-20 14:53:46\n",
      "2006-05-20 14:54:01\n",
      "2006-05-20 14:54:16\n",
      "2006-05-20 14:54:31\n",
      "2006-05-20 14:54:46\n",
      "2006-05-20 14:55:01\n",
      "2006-05-20 14:55:16\n",
      "2006-05-20 14:55:31\n",
      "2006-05-20 14:55:46\n",
      "2006-05-20 14:56:01\n",
      "2006-05-20 14:56:16\n",
      "2006-05-20 14:56:31\n",
      "2006-05-20 14:56:46\n",
      "2006-05-20 14:57:01\n",
      "2006-05-20 14:57:16\n",
      "2006-05-20 14:57:31\n",
      "2006-05-20 14:57:46\n",
      "2006-05-20 14:58:01\n",
      "2006-05-20 14:58:16\n",
      "2006-05-20 14:58:31\n",
      "2006-05-20 14:58:46\n",
      "2006-05-20 14:59:01\n",
      "2006-05-20 14:59:16\n",
      "2006-05-20 14:59:31\n",
      "2006-05-20 14:59:46\n",
      "2006-05-20 15:00:01\n",
      "2006-05-20 15:00:16\n",
      "2006-05-20 15:00:31\n",
      "2006-05-20 15:00:46\n",
      "2006-05-20 15:01:01\n",
      "2006-05-20 15:01:16\n",
      "2006-05-20 15:01:31\n",
      "2006-05-20 15:01:46\n",
      "2006-05-20 15:02:01\n",
      "2006-05-20 15:02:16\n",
      "2006-05-20 15:02:31\n",
      "2006-05-20 15:02:46\n",
      "2006-05-20 15:03:01\n",
      "2006-05-20 15:03:16\n",
      "2006-05-20 15:03:31\n",
      "2006-05-20 15:03:46\n",
      "2006-05-20 15:04:01\n",
      "2006-05-20 15:04:16\n",
      "2006-05-20 15:04:31\n",
      "2006-05-20 15:04:46\n",
      "2006-05-20 15:05:01\n",
      "2006-05-20 15:05:16\n",
      "2006-05-20 15:05:31\n",
      "2006-05-20 15:05:46\n",
      "2006-05-20 15:06:01\n",
      "2006-05-20 15:06:16\n",
      "2006-05-20 15:06:31\n",
      "2006-05-20 15:06:46\n",
      "2006-05-20 15:07:01\n",
      "2006-05-20 15:07:16\n",
      "2006-05-20 15:07:31\n",
      "2006-05-20 15:07:46\n",
      "2006-05-20 15:08:01\n",
      "2006-05-20 15:08:16\n",
      "2006-05-20 15:08:31\n",
      "2006-05-20 15:08:46\n",
      "2006-05-20 15:09:01\n",
      "2006-05-20 15:09:16\n",
      "2006-05-20 15:09:31\n",
      "2006-05-20 15:09:46\n",
      "2006-05-20 15:10:01\n",
      "2006-05-20 15:10:16\n",
      "2006-05-20 15:10:31\n",
      "2006-05-20 15:10:46\n",
      "2006-05-20 15:11:01\n",
      "2006-05-20 15:11:16\n",
      "2006-05-20 15:11:31\n",
      "2006-05-20 15:11:46\n",
      "2006-05-20 15:12:01\n",
      "2006-05-20 15:12:16\n",
      "2006-05-20 15:12:31\n",
      "2006-05-20 15:12:46\n",
      "2006-05-20 15:13:01\n",
      "2006-05-20 15:13:16\n",
      "2006-05-20 15:13:31\n",
      "2006-05-20 15:13:46\n",
      "2006-05-20 15:14:01\n",
      "2006-05-20 15:14:16\n",
      "2006-05-20 15:14:31\n",
      "2006-05-20 15:14:46\n",
      "2006-05-20 15:15:01\n",
      "2006-05-20 15:15:16\n",
      "2006-05-20 15:15:31\n",
      "2006-05-20 15:15:46\n",
      "2006-05-20 15:16:01\n",
      "2006-05-20 15:16:16\n",
      "2006-05-20 15:16:31\n",
      "2006-05-20 15:16:46\n",
      "2006-05-20 15:17:01\n",
      "2006-05-20 15:17:16\n",
      "2006-05-20 15:17:31\n",
      "2006-05-20 15:17:46\n",
      "2006-05-20 15:18:01\n",
      "2006-05-20 15:18:16\n",
      "2006-05-20 15:18:31\n",
      "2006-05-20 15:18:46\n",
      "2006-05-20 15:19:01\n",
      "2006-05-20 15:19:16\n",
      "2006-05-20 15:19:31\n",
      "2006-05-20 15:19:46\n",
      "2006-05-20 15:20:01\n",
      "2006-05-20 15:20:16\n",
      "2006-05-20 15:20:31\n",
      "2006-05-20 15:20:46\n",
      "2006-05-20 15:21:01\n",
      "2006-05-20 15:21:16\n",
      "2006-05-20 15:21:31\n",
      "2006-05-20 15:21:46\n",
      "2006-05-20 15:22:01\n",
      "2006-05-20 15:22:16\n",
      "2006-05-20 15:22:31\n",
      "2006-05-20 15:22:46\n",
      "2006-05-20 15:23:01\n",
      "2006-05-20 15:23:16\n",
      "2006-05-20 15:23:31\n",
      "2006-05-20 15:23:46\n",
      "2006-05-20 15:24:01\n",
      "2006-05-20 15:24:16\n",
      "2006-05-20 15:24:31\n",
      "2006-05-20 15:24:46\n",
      "2006-05-20 15:25:01\n",
      "2006-05-20 15:25:16\n",
      "2006-05-20 15:25:31\n",
      "2006-05-20 15:25:46\n",
      "2006-05-20 15:26:01\n",
      "2006-05-20 15:26:16\n",
      "2006-05-20 15:26:31\n",
      "2006-05-20 15:26:46\n",
      "2006-05-20 15:27:01\n",
      "2006-05-20 15:27:16\n",
      "2006-05-20 15:27:31\n",
      "2006-05-20 15:27:46\n",
      "2006-05-20 15:28:01\n",
      "2006-05-20 15:28:16\n",
      "2006-05-20 15:28:32\n",
      "2006-05-20 15:28:47\n",
      "2006-05-20 15:29:02\n",
      "2006-05-20 15:29:17\n",
      "2006-05-20 15:29:32\n",
      "2006-05-20 15:29:47\n",
      "2006-05-20 15:30:02\n",
      "2006-05-20 15:30:17\n",
      "2006-05-20 15:30:32\n",
      "2006-05-20 15:30:47\n",
      "2006-05-20 15:31:02\n",
      "2006-05-20 15:31:17\n",
      "2006-05-20 15:31:32\n",
      "2006-05-20 15:31:47\n",
      "2006-05-20 15:31:48\n"
     ]
    }
   ],
   "source": [
    "from datetime import datetime, timedelta\n",
    "f=open('GPS.dat')\n",
    "data_all=[]\n",
    "for line in f.readlines():        # From course material 02\n",
    "    data_all.append(line)           # From course material 02\n",
    "count=0\n",
    "ind=[]\n",
    "ind1=[]\n",
    "for line in data_all:    \n",
    "    data=line.split()\n",
    "    if not data: \n",
    "        count+=1\n",
    "        continue\n",
    "    if data[0] == 'Track':\n",
    "        ind.append(count)\n",
    "        ind1.append(data[1])\n",
    "    count+=1\n",
    "print(ind,ind1)\n",
    "x='ACTIVE'\n",
    "l=ind1.index(x)\n",
    "data_some=data_all[ind[l]:ind[l+1]]\n",
    "date=[]\n",
    "time=[]\n",
    "speed=[]\n",
    "lat=[]\n",
    "long=[]\n",
    "for line in data_some:\n",
    "    l=line.split()\n",
    "    if not l: continue\n",
    "    if l[0] == 'Trackpoint':\n",
    "        date.append(l[5])\n",
    "        time.append(l[6])\n",
    "        if len(l) < 14:\n",
    "            speed.append(0)\n",
    "        else:\n",
    "            speed.append(l[13])\n",
    "z=open('date_time_'+ x + '.dat','w')\n",
    "for i in range(len(date)):\n",
    "    d1=date[i].split('/')\n",
    "    d2=time[i].split(':')\n",
    "    d3=datetime(int(d1[2]),int(d1[0]),int(d1[1]),int(d2[0])+12,int(d2[1]),int(d2[2]))\n",
    "    print(d3)\n",
    "    z.write('{}\\n'.format(str(d3)))   \n",
    "z.close()\n",
    "f.close()"
   ]
  },
  {
   "cell_type": "code",
   "execution_count": 88,
   "metadata": {
    "collapsed": false
   },
   "outputs": [
    {
     "name": "stdout",
     "output_type": "stream",
     "text": [
      "[5, 479, 507, 545, 553, 616] ['ACTIVE', 'LEGOLAS', 'MERIADOC', 'SAMWISE', 'STRIDER']\n",
      "MERIADOC\n",
      "{'latitude': ['N4249.813', 'N4249.583', 'N4249.534', 'N4248.880', 'N4248.881', 'N4248.881', 'N4248.899', 'N4248.895', 'N4248.880', 'N4248.864', 'N4248.843', 'N4248.835', 'N4248.796', 'N4248.791', 'N4248.767', 'N4248.763', 'N4248.751', 'N4248.724', 'N4248.716', 'N4248.706', 'N4248.694', 'N4248.691', 'N4248.687', 'N4248.684', 'N4248.675', 'N4248.673', 'N4248.669', 'N4248.649', 'N4248.646', 'N4248.621', 'N4248.617', 'N4248.603', 'N4248.601'], 'longitude': ['W7045.416', 'W7045.557', 'W7045.623', 'W7047.324', 'W7047.306', 'W7047.292', 'W7047.399', 'W7047.382', 'W7047.326', 'W7047.256', 'W7047.163', 'W7047.129', 'W7046.944', 'W7046.925', 'W7046.813', 'W7046.799', 'W7046.747', 'W7046.627', 'W7046.598', 'W7046.555', 'W7046.509', 'W7046.493', 'W7046.478', 'W7046.464', 'W7046.434', 'W7046.420', 'W7046.406', 'W7046.339', 'W7046.324', 'W7046.219', 'W7046.205', 'W7046.152', 'W7046.139'], 'speed': [0, 0, 0, 0, 0, 0, 0, 0, 0, 0, 0, 0, 0, 0, 0, 0, 0, 0, 0, 0, 0, 0, 0, 0, 0, 0, 0, 0, 0, 0, 0, 0, 0]}\n"
     ]
    }
   ],
   "source": [
    "f=open('GPS.dat')\n",
    "data_all=[]\n",
    "for line in f.readlines():        # From course material 02\n",
    "    data_all.append(line)           # From course material 02\n",
    "f.close()\n",
    "count=0\n",
    "ind=[]\n",
    "ind1=[]\n",
    "for line in data_all:    \n",
    "    data=line.split()\n",
    "    if not data: \n",
    "        count+=1\n",
    "        continue\n",
    "    if data[0] == 'Track':\n",
    "        ind.append(count)\n",
    "        ind1.append(data[1])\n",
    "    count+=1\n",
    "ind.append(len(data_all)-1)\n",
    "print(ind,ind1)\n",
    "\n",
    "d={ind1[0]:{'latitude':'3','longitude':'3','speed':'3'},\n",
    "   ind1[1]:{'latitude':'3','longitude':'3','speed':'3'},\n",
    "   ind1[2]:{'latitude':'3','longitude':'3','speed':'3'},\n",
    "   ind1[3]:{'latitude':'3','longitude':'3','speed':'3'},\n",
    "   ind1[4]:{'latitude':'3','longitude':'3','speed':'3'}}\n",
    "\n",
    "for i in range(5):\n",
    "    l1=ind[i]\n",
    "    l2=ind[i+1]\n",
    "    lat=[]\n",
    "    long=[]\n",
    "    speed=[]\n",
    "    for j in range(l1,l2,1):\n",
    "        data=data_all[j].split()\n",
    "        if not data: continue\n",
    "        if data[0] == 'Trackpoint':\n",
    "            lat.append(data[1]+data[2])\n",
    "            long.append(data[3]+data[4])\n",
    "            if len(l) < 14:\n",
    "                speed.append(0)\n",
    "            else:\n",
    "                speed.append(l[13])\n",
    "    d[ind1[i]]['latitude']=lat\n",
    "    d[ind1[i]]['longitude']=long\n",
    "    d[ind1[i]]['speed']=speed\n",
    "print(ind1[2])    \n",
    "print(d[ind1[2]])"
   ]
  },
  {
   "cell_type": "markdown",
   "metadata": {},
   "source": [
    "# 11. (Grad) Constructing terms in a Taylor series to approximate a function\n",
    "\n",
    "The Taylor series expansion for the sine function is given by \n",
    "$$ \\text{sin}(x) = \\Sigma^\\infty_{k=0} \\frac{(-1)^k x^{1+2k}}{(1+2k)!}$$\n",
    "\n",
    "This expression gives an exact form for sin(x) when an infinite number of terms are used; any truncation gives an approximation. Write a loop that constructs terms from $k=0$ up to $k=N$. Don't use any function for the factorial since we haven't gotten to NumPy... create it yourself, instead. Provide the value of sin(0.5) with N=5 terms. How many terms do you need to include before the answer starts to plateau?\n"
   ]
  },
  {
   "cell_type": "code",
   "execution_count": 62,
   "metadata": {
    "collapsed": false
   },
   "outputs": [],
   "source": [
    "def taylor_sine(x,n):\n",
    "    '''Returns the Taylor Series approximation for \n",
    "        sin(x) up to n terms'''\n",
    "    import math # Included in the function to compare\n",
    "    print('The math module returns   :',math.sin(0.5))\n",
    "    out=0.0\n",
    "    for k in range(n+1):\n",
    "        numerator   = (-1)**float(k)*x**(1+2*float(k))\n",
    "        denominator = 1.0\n",
    "        for f in range((1+2*k),1,-1):\n",
    "            denominator = denominator*float(f)\n",
    "        out += numerator/denominator\n",
    "    print('The taylor series returns :',out)\n",
    "    return out"
   ]
  },
  {
   "cell_type": "code",
   "execution_count": 64,
   "metadata": {
    "collapsed": false
   },
   "outputs": [
    {
     "name": "stdout",
     "output_type": "stream",
     "text": [
      "The math module returns   : 0.479425538604203\n",
      "The taylor series returns : 0.47942708333333334\n",
      "The math module returns   : 0.479425538604203\n",
      "The taylor series returns : 0.479425533234127\n",
      "The math module returns   : 0.479425538604203\n",
      "The taylor series returns : 0.4794255386164159\n",
      "The math module returns   : 0.479425538604203\n",
      "The taylor series returns : 0.4794255386041834\n",
      "The math module returns   : 0.479425538604203\n",
      "The taylor series returns : 0.479425538604203\n",
      "The math module returns   : 0.479425538604203\n",
      "The taylor series returns : 0.479425538604203\n"
     ]
    },
    {
     "data": {
      "text/plain": [
       "0.479425538604203"
      ]
     },
     "execution_count": 64,
     "metadata": {},
     "output_type": "execute_result"
    }
   ],
   "source": [
    "taylor_sine(0.5,2)\n",
    "taylor_sine(0.5,3)\n",
    "taylor_sine(0.5,4)\n",
    "taylor_sine(0.5,5)\n",
    "taylor_sine(0.5,6) # plateaus at N=6\n",
    "taylor_sine(0.5,7)"
   ]
  }
 ],
 "metadata": {
  "kernelspec": {
   "display_name": "Python 3",
   "language": "python",
   "name": "python3"
  },
  "language_info": {
   "codemirror_mode": {
    "name": "ipython",
    "version": 3
   },
   "file_extension": ".py",
   "mimetype": "text/x-python",
   "name": "python",
   "nbconvert_exporter": "python",
   "pygments_lexer": "ipython3",
   "version": "3.5.1"
  }
 },
 "nbformat": 4,
 "nbformat_minor": 0
}
